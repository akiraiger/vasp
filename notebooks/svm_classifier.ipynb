{
 "cells": [
  {
   "cell_type": "code",
   "execution_count": 1,
   "metadata": {},
   "outputs": [],
   "source": [
    "# Magnetic moment classifier using SVM\n",
    "# https://arxiv.org/abs/1806.07989"
   ]
  },
  {
   "cell_type": "code",
   "execution_count": 2,
   "metadata": {},
   "outputs": [],
   "source": [
    "import warnings\n",
    "warnings.filterwarnings('ignore')"
   ]
  },
  {
   "cell_type": "code",
   "execution_count": 3,
   "metadata": {},
   "outputs": [],
   "source": [
    "import itertools\n",
    "import os\n",
    "\n",
    "import pandas as pd\n",
    "import numpy as np\n",
    "\n",
    "from sklearn.model_selection import GridSearchCV, KFold\n",
    "from sklearn.preprocessing import StandardScaler, Normalizer\n",
    "from sklearn.decomposition import PCA\n",
    "from sklearn.pipeline import Pipeline\n",
    "from sklearn.metrics import accuracy_score, f1_score, precision_score, recall_score, \\\n",
    "                            classification_report, confusion_matrix, \\\n",
    "                            roc_curve, roc_auc_score\n",
    "from sklearn.svm import SVC\n",
    "\n",
    "import seaborn as sns\n",
    "import matplotlib.pyplot as plt\n",
    "import matplotlib.gridspec as gridspec\n",
    "from mlxtend.plotting import plot_decision_regions\n",
    "\n",
    "from tqdm.notebook import tqdm"
   ]
  },
  {
   "cell_type": "code",
   "execution_count": 4,
   "metadata": {},
   "outputs": [
    {
     "data": {
      "text/html": [
       "<div>\n",
       "<style scoped>\n",
       "    .dataframe tbody tr th:only-of-type {\n",
       "        vertical-align: middle;\n",
       "    }\n",
       "\n",
       "    .dataframe tbody tr th {\n",
       "        vertical-align: top;\n",
       "    }\n",
       "\n",
       "    .dataframe thead th {\n",
       "        text-align: right;\n",
       "    }\n",
       "</style>\n",
       "<table border=\"1\" class=\"dataframe\">\n",
       "  <thead>\n",
       "    <tr style=\"text-align: right;\">\n",
       "      <th></th>\n",
       "      <th>a</th>\n",
       "      <th>b</th>\n",
       "      <th>x</th>\n",
       "      <th>x1</th>\n",
       "      <th>y1</th>\n",
       "      <th>z1</th>\n",
       "      <th>x2</th>\n",
       "      <th>y2</th>\n",
       "      <th>z2</th>\n",
       "      <th>x3</th>\n",
       "      <th>...</th>\n",
       "      <th>m7</th>\n",
       "      <th>m8</th>\n",
       "      <th>m9</th>\n",
       "      <th>m10</th>\n",
       "      <th>mtot</th>\n",
       "      <th>fermi_en</th>\n",
       "      <th>band_en</th>\n",
       "      <th>tot_en</th>\n",
       "      <th>n_el</th>\n",
       "      <th>class</th>\n",
       "    </tr>\n",
       "  </thead>\n",
       "  <tbody>\n",
       "    <tr>\n",
       "      <th>0</th>\n",
       "      <td>Cr2</td>\n",
       "      <td>Ge2</td>\n",
       "      <td>Se6</td>\n",
       "      <td>3.18455</td>\n",
       "      <td>1.83860</td>\n",
       "      <td>11.46022</td>\n",
       "      <td>6.36911</td>\n",
       "      <td>3.67721</td>\n",
       "      <td>11.46366</td>\n",
       "      <td>0.0</td>\n",
       "      <td>...</td>\n",
       "      <td>-0.078</td>\n",
       "      <td>-0.083</td>\n",
       "      <td>-0.068</td>\n",
       "      <td>-0.078</td>\n",
       "      <td>5.740</td>\n",
       "      <td>-3.293012</td>\n",
       "      <td>-453.081400</td>\n",
       "      <td>-47.363580</td>\n",
       "      <td>56.0</td>\n",
       "      <td>1</td>\n",
       "    </tr>\n",
       "    <tr>\n",
       "      <th>1</th>\n",
       "      <td>Cr2</td>\n",
       "      <td>Ge2</td>\n",
       "      <td>Te6</td>\n",
       "      <td>3.45884</td>\n",
       "      <td>1.99696</td>\n",
       "      <td>11.73311</td>\n",
       "      <td>6.91770</td>\n",
       "      <td>3.99393</td>\n",
       "      <td>11.73680</td>\n",
       "      <td>0.0</td>\n",
       "      <td>...</td>\n",
       "      <td>-0.094</td>\n",
       "      <td>-0.098</td>\n",
       "      <td>-0.085</td>\n",
       "      <td>-0.094</td>\n",
       "      <td>5.802</td>\n",
       "      <td>-2.261006</td>\n",
       "      <td>-378.802754</td>\n",
       "      <td>-41.769014</td>\n",
       "      <td>56.0</td>\n",
       "      <td>1</td>\n",
       "    </tr>\n",
       "    <tr>\n",
       "      <th>2</th>\n",
       "      <td>Cr2</td>\n",
       "      <td>GeP</td>\n",
       "      <td>Se6</td>\n",
       "      <td>3.17526</td>\n",
       "      <td>1.83324</td>\n",
       "      <td>10.94288</td>\n",
       "      <td>6.35053</td>\n",
       "      <td>3.66648</td>\n",
       "      <td>10.94617</td>\n",
       "      <td>-0.0</td>\n",
       "      <td>...</td>\n",
       "      <td>-0.118</td>\n",
       "      <td>-0.076</td>\n",
       "      <td>-0.058</td>\n",
       "      <td>-0.072</td>\n",
       "      <td>5.199</td>\n",
       "      <td>-2.203379</td>\n",
       "      <td>-457.470428</td>\n",
       "      <td>-48.125997</td>\n",
       "      <td>57.0</td>\n",
       "      <td>1</td>\n",
       "    </tr>\n",
       "    <tr>\n",
       "      <th>3</th>\n",
       "      <td>Cr2</td>\n",
       "      <td>GeP</td>\n",
       "      <td>Te6</td>\n",
       "      <td>3.43923</td>\n",
       "      <td>1.98564</td>\n",
       "      <td>11.48932</td>\n",
       "      <td>6.87847</td>\n",
       "      <td>3.97128</td>\n",
       "      <td>11.49277</td>\n",
       "      <td>0.0</td>\n",
       "      <td>...</td>\n",
       "      <td>-0.109</td>\n",
       "      <td>-0.088</td>\n",
       "      <td>-0.072</td>\n",
       "      <td>-0.086</td>\n",
       "      <td>5.416</td>\n",
       "      <td>-1.621638</td>\n",
       "      <td>-384.680620</td>\n",
       "      <td>-42.568685</td>\n",
       "      <td>57.0</td>\n",
       "      <td>1</td>\n",
       "    </tr>\n",
       "    <tr>\n",
       "      <th>4</th>\n",
       "      <td>Cr2</td>\n",
       "      <td>GeSi</td>\n",
       "      <td>Se6</td>\n",
       "      <td>3.16310</td>\n",
       "      <td>1.82622</td>\n",
       "      <td>11.26573</td>\n",
       "      <td>6.32621</td>\n",
       "      <td>3.65244</td>\n",
       "      <td>11.26911</td>\n",
       "      <td>0.0</td>\n",
       "      <td>...</td>\n",
       "      <td>-0.065</td>\n",
       "      <td>-0.093</td>\n",
       "      <td>-0.074</td>\n",
       "      <td>-0.087</td>\n",
       "      <td>5.741</td>\n",
       "      <td>-3.251253</td>\n",
       "      <td>-448.692635</td>\n",
       "      <td>-48.832091</td>\n",
       "      <td>56.0</td>\n",
       "      <td>1</td>\n",
       "    </tr>\n",
       "  </tbody>\n",
       "</table>\n",
       "<p>5 rows × 49 columns</p>\n",
       "</div>"
      ],
      "text/plain": [
       "     a     b    x       x1       y1        z1       x2       y2        z2  \\\n",
       "0  Cr2   Ge2  Se6  3.18455  1.83860  11.46022  6.36911  3.67721  11.46366   \n",
       "1  Cr2   Ge2  Te6  3.45884  1.99696  11.73311  6.91770  3.99393  11.73680   \n",
       "2  Cr2   GeP  Se6  3.17526  1.83324  10.94288  6.35053  3.66648  10.94617   \n",
       "3  Cr2   GeP  Te6  3.43923  1.98564  11.48932  6.87847  3.97128  11.49277   \n",
       "4  Cr2  GeSi  Se6  3.16310  1.82622  11.26573  6.32621  3.65244  11.26911   \n",
       "\n",
       "    x3  ...     m7     m8     m9    m10   mtot  fermi_en     band_en  \\\n",
       "0  0.0  ... -0.078 -0.083 -0.068 -0.078  5.740 -3.293012 -453.081400   \n",
       "1  0.0  ... -0.094 -0.098 -0.085 -0.094  5.802 -2.261006 -378.802754   \n",
       "2 -0.0  ... -0.118 -0.076 -0.058 -0.072  5.199 -2.203379 -457.470428   \n",
       "3  0.0  ... -0.109 -0.088 -0.072 -0.086  5.416 -1.621638 -384.680620   \n",
       "4  0.0  ... -0.065 -0.093 -0.074 -0.087  5.741 -3.251253 -448.692635   \n",
       "\n",
       "      tot_en  n_el  class  \n",
       "0 -47.363580  56.0      1  \n",
       "1 -41.769014  56.0      1  \n",
       "2 -48.125997  57.0      1  \n",
       "3 -42.568685  57.0      1  \n",
       "4 -48.832091  56.0      1  \n",
       "\n",
       "[5 rows x 49 columns]"
      ]
     },
     "execution_count": 4,
     "metadata": {},
     "output_type": "execute_result"
    }
   ],
   "source": [
    "normalizer = Normalizer()\n",
    "\n",
    "df_train = pd.read_csv('../datasets/datatrain.csv')\n",
    "df_test = pd.read_csv('../datasets/datatest.csv')\n",
    "\n",
    "X_train = df_train.drop(['a', 'b', 'x', 'class'], axis=1)\n",
    "X_train_norm = normalizer.fit_transform(X_train)\n",
    "y_train = df_train['class'].values\n",
    "\n",
    "X_test = df_test.drop(['a', 'b', 'x', 'class'], axis=1)\n",
    "X_test_norm = normalizer.fit_transform(X_test)\n",
    "y_test = df_test['class'].values\n",
    "\n",
    "df_train.head()"
   ]
  },
  {
   "cell_type": "code",
   "execution_count": 25,
   "metadata": {
    "scrolled": true
   },
   "outputs": [
    {
     "data": {
      "image/png": "[encoded data removed]",
      "text/plain": [
       "<Figure size 432x288 with 4 Axes>"
      ]
     },
     "metadata": {
      "needs_background": "light"
     },
     "output_type": "display_data"
    }
   ],
   "source": [
    "piv_Te = pd.pivot_table(df_train.query('x == \"Te6\"'), values=\"mtot\", \n",
    "                        index=[\"a\"], columns=[\"b\"], fill_value=0)\n",
    "\n",
    "piv_Se = pd.pivot_table(df_train.query('x == \"Se6\"'), values=\"mtot\", \n",
    "                        index=[\"a\"], columns=[\"b\"], fill_value=0)\n",
    "\n",
    "piv_S = pd.pivot_table(df_test.query('x == \"S6\"'), values=\"mtot\", \n",
    "                       index=[\"a\"], columns=[\"b\"], fill_value=0)\n",
    "\n",
    "new_index = [\n",
    "#              'Ti2', 'V2',\n",
    "             'Cr2', 'Mn2', 'Fe2', 'Co2',\n",
    "             'Ni2', 'Cu2',\n",
    "#              'Y2', 'Nb2', 'Ru2'\n",
    "            ]\n",
    "\n",
    "piv_Te = piv_Te.reindex(new_index)\n",
    "piv_Se = piv_Se.reindex(new_index)\n",
    "piv_S = piv_S.reindex(new_index)\n",
    "\n",
    "fig, ax = plt.subplots(1, 3)\n",
    "im_Te = ax[0].imshow(piv_Te, cmap=\"RdBu\")\n",
    "im_Se = ax[1].imshow(piv_Se, cmap=\"RdBu\")\n",
    "im_S = ax[2].imshow(piv_S, cmap=\"RdBu\")\n",
    "\n",
    "cax = fig.add_axes([ax[2].get_position().x1 + 1.13,\n",
    "                    ax[2].get_position().y0 - 0.065,\n",
    "                    0.03,\n",
    "                    ax[2].get_position().height + 0.123])\n",
    "\n",
    "fig.colorbar(im_S, ax=ax[2], cax=cax)\n",
    "\n",
    "ax[0].set_title('Te6', fontsize=10)\n",
    "ax[0].set_xticks(range(len(piv_Te.columns)))\n",
    "ax[0].set_yticks(range(len(piv_Te.index)))\n",
    "ax[0].set_xticklabels(piv_Te.columns, rotation=90)\n",
    "ax[0].set_yticklabels(piv_Te.index)\n",
    "\n",
    "ax[1].set_title('Se6', fontsize=10)\n",
    "ax[1].set_xticks(range(len(piv_Se.columns)))\n",
    "ax[1].set_yticks([])\n",
    "ax[1].set_xticklabels(piv_Se.columns, rotation=90)\n",
    "\n",
    "ax[2].set_title('S6', fontsize=10)\n",
    "ax[2].set_xticks(range(len(piv_S.columns)))\n",
    "ax[2].set_yticks([])\n",
    "ax[2].set_xticklabels(piv_S.columns, rotation=90)\n",
    "\n",
    "plt.tight_layout()\n",
    "plt.subplots_adjust(left=1, right=2)\n",
    "plt.show()"
   ]
  },
  {
   "cell_type": "code",
   "execution_count": 6,
   "metadata": {},
   "outputs": [],
   "source": [
    "kernel = ['linear', 'rbf', 'poly', 'sigmoid']\n",
    "C = [0.1, 1, 10, 100, 1000]\n",
    "gamma = [0.1, 0.01, 0.001, 0.0001, 0.00001]\n",
    "degree = [1, 2, 3, 4, 5]\n",
    "n_folds = 5\n",
    "\n",
    "param_grid = {\n",
    "    'kernel': kernel,\n",
    "    'C': C,\n",
    "    'gamma': gamma,\n",
    "    'degree': degree\n",
    "}\n",
    "\n",
    "pipe = [('pca', PCA()), ('classifier', SVC())]\n",
    "param_grid_pca = {\n",
    "    'pca__n_components': [2],\n",
    "    'classifier__kernel': kernel,\n",
    "    'classifier__C': C,\n",
    "    'classifier__gamma': gamma,\n",
    "    'classifier__degree': degree\n",
    "}\n",
    "\n",
    "pipeline = Pipeline(pipe)"
   ]
  },
  {
   "cell_type": "code",
   "execution_count": 7,
   "metadata": {},
   "outputs": [
    {
     "name": "stdout",
     "output_type": "stream",
     "text": [
      "Best score: 0.9833333333333332\n",
      "Best params: {'C': 1000, 'degree': 1, 'gamma': 0.1, 'kernel': 'linear'}\n",
      "SVM accuracy with best params: 0.9333333333333333\n",
      "Actual test label:    [1 1 1 1 1 1 1 1 1 1 1 1 0 0 0 0 0 1 0 0 0 0 0 0 0 0 0 0 0 0]\n",
      "Predicted test label: [1 1 1 1 1 1 1 1 1 1 1 1 0 0 1 0 1 1 0 0 0 0 0 0 0 0 0 0 0 0]\n",
      "\n",
      "[[15  2]\n",
      " [ 0 13]] \n",
      "\n",
      "Precision: 0.8666666666666667\n",
      "Recall: 1.0\n",
      "F Score: 0.9285714285714286\n"
     ]
    }
   ],
   "source": [
    "grid1 = GridSearchCV(estimator=SVC(), param_grid=param_grid, cv=KFold(n_splits=n_folds), \n",
    "                     refit=True)\n",
    "grid1.fit(X_train_norm, y_train)\n",
    "\n",
    "y_pred1 = grid1.predict(X_test_norm)\n",
    "\n",
    "print('Best score: {}'.format(grid1.best_score_))\n",
    "print('Best params: {}'.format(grid1.best_params_))\n",
    "\n",
    "print('SVM accuracy with best params: {}'.format(accuracy_score(y_pred1, y_test)))\n",
    "print('Actual test label:    {}'.format(y_test))\n",
    "print('Predicted test label: {}\\n'.format(y_pred1))\n",
    "\n",
    "print(confusion_matrix(y_test, y_pred1), '\\n')\n",
    "\n",
    "print('Precision: {}'.format(precision_score(y_test, y_pred1)))\n",
    "print('Recall: {}'.format(recall_score(y_test, y_pred1)))\n",
    "print('F Score: {}'.format(f1_score(y_test, y_pred1)))"
   ]
  },
  {
   "cell_type": "code",
   "execution_count": 11,
   "metadata": {},
   "outputs": [
    {
     "data": {
      "text/plain": [
       "<matplotlib.axes._subplots.AxesSubplot at 0x11e6e2790>"
      ]
     },
     "execution_count": 11,
     "metadata": {},
     "output_type": "execute_result"
    },
    {
     "data": {
      "image/png": "[encoded data removed]",
      "text/plain": [
       "<Figure size 360x360 with 2 Axes>"
      ]
     },
     "metadata": {
      "needs_background": "light"
     },
     "output_type": "display_data"
    }
   ],
   "source": [
    "# selected = ['m1', 'm2', 'm3', 'mtot', 'n_el', 'tot_en', 'z3', 'z5', 'z6', 'z7']\n",
    "# selected = ['m1', 'm2', 'm3', 'mtot', 'z3', 'z5', 'z6', 'z7']\n",
    "selected = ['m1', 'm2', 'm3', 'mtot']\n",
    "\n",
    "plt.figure(figsize=(5, 5))\n",
    "df_corr = pd.concat([pd.DataFrame(X_train, columns=selected), df_train['class']], axis=1)\n",
    "sns.heatmap(df_corr.corr(), annot=False, cmap='RdBu')"
   ]
  },
  {
   "cell_type": "code",
   "execution_count": 12,
   "metadata": {},
   "outputs": [],
   "source": [
    "X_train2 = df_train[selected]\n",
    "X_train2_norm = normalizer.fit_transform(X_train2)\n",
    "\n",
    "X_test2 = df_test[selected]\n",
    "X_test2_norm = normalizer.fit_transform(X_test2)"
   ]
  },
  {
   "cell_type": "code",
   "execution_count": 13,
   "metadata": {
    "scrolled": true
   },
   "outputs": [
    {
     "name": "stdout",
     "output_type": "stream",
     "text": [
      "Best score: 0.85\n",
      "Best params: {'C': 1000, 'degree': 2, 'gamma': 0.1, 'kernel': 'poly'}\n",
      "SVM Accuracy with best params: 0.8333333333333334\n",
      "Actual test label:    [1 1 1 1 1 1 1 1 1 1 1 1 0 0 0 0 0 1 0 0 0 0 0 0 0 0 0 0 0 0]\n",
      "Predicted test label: [1 1 1 1 1 1 1 1 1 1 1 1 1 1 1 0 1 0 0 0 0 0 0 0 0 0 0 0 0 0]\n",
      "\n",
      "[[13  4]\n",
      " [ 1 12]] \n",
      "\n",
      "Precision: 0.75\n",
      "Recall: 0.9230769230769231\n",
      "F Score: 0.8275862068965517\n"
     ]
    }
   ],
   "source": [
    "grid2 = GridSearchCV(estimator=SVC(), param_grid=param_grid, cv=KFold(n_splits=n_folds), \n",
    "                     refit=True)\n",
    "grid2.fit(X_train2_norm, y_train)\n",
    "\n",
    "y_pred2 = grid2.predict(X_test2_norm)\n",
    "\n",
    "print('Best score: {}'.format(grid2.best_score_))\n",
    "print('Best params: {}'.format(grid2.best_params_))\n",
    "\n",
    "print('SVM Accuracy with best params: {}'.format(accuracy_score(y_pred2, y_test)))\n",
    "print('Actual test label:    {}'.format(y_test))\n",
    "print('Predicted test label: {}\\n'.format(y_pred2))\n",
    "\n",
    "print(confusion_matrix(y_test, y_pred2), '\\n')\n",
    "\n",
    "print('Precision: {}'.format(precision_score(y_test, y_pred2)))\n",
    "print('Recall: {}'.format(recall_score(y_test, y_pred2)))\n",
    "print('F Score: {}'.format(f1_score(y_test, y_pred2)))"
   ]
  },
  {
   "cell_type": "code",
   "execution_count": 27,
   "metadata": {},
   "outputs": [
    {
     "data": {
      "image/png": "[encoded data removed]",
      "text/plain": [
       "<Figure size 432x288 with 1 Axes>"
      ]
     },
     "metadata": {
      "needs_background": "light"
     },
     "output_type": "display_data"
    }
   ],
   "source": [
    "akurasi = [83.34, 100, 100, 93.33]\n",
    "precision = [75, 100, 100, 86.67]\n",
    "recall = [92.30, 100, 100, 100]\n",
    "f1 = [82.75, 100, 100, 92.85]\n",
    "fitur = [4, 8, 10, 45]\n",
    "\n",
    "plt.plot(fitur, akurasi, '-o')\n",
    "plt.plot(fitur, precision, '-o')\n",
    "plt.plot(fitur, recall, '-o')\n",
    "plt.plot(fitur, f1, '-o')\n",
    "plt.show()"
   ]
  },
  {
   "cell_type": "code",
   "execution_count": 258,
   "metadata": {},
   "outputs": [
    {
     "name": "stdout",
     "output_type": "stream",
     "text": [
      "PCA with all features variance ratio:      [0.97770989 0.01518983]\n",
      "PCA with selected features variance ratio: [0.81097431 0.1436613 ]\n"
     ]
    }
   ],
   "source": [
    "pca = PCA(n_components=2)\n",
    "pca2 = PCA(n_components=2)\n",
    "\n",
    "# PCA with all features\n",
    "X_transformed = pca.fit_transform(X_train)\n",
    "X_test_transformed = pca.transform(X_test)\n",
    "columns = ['Principal Component 1', 'Principal Component 2']\n",
    "\n",
    "df_pca = pd.DataFrame(data=X_transformed, columns=columns)\n",
    "df_pca = pd.concat([df_pca['Principal Component 1'], df_pca['Principal Component 2'], df_train['class']], axis = 1)\n",
    "\n",
    "# PCA with selected features\n",
    "X_transformed2 = pca2.fit_transform(X_train2)\n",
    "X_test_transformed2 = pca2.transform(X_test2)\n",
    "columns = ['Principal Component 1', 'Principal Component 2']\n",
    "\n",
    "df_pca2 = pd.DataFrame(data=X_transformed2, columns=columns)\n",
    "df_pca2 = pd.concat([df_pca2['Principal Component 1'], df_pca2['Principal Component 2'], df_train['class']], axis=1)\n",
    "\n",
    "# Variance ratio\n",
    "print('PCA with all features variance ratio:      {}'.format(pca.explained_variance_ratio_))\n",
    "print('PCA with selected features variance ratio: {}'.format(pca2.explained_variance_ratio_))"
   ]
  },
  {
   "cell_type": "code",
   "execution_count": 259,
   "metadata": {},
   "outputs": [
    {
     "data": {
      "image/png": "[encoded data removed]",
      "text/plain": [
       "<Figure size 432x288 with 2 Axes>"
      ]
     },
     "metadata": {
      "needs_background": "light"
     },
     "output_type": "display_data"
    }
   ],
   "source": [
    "fig, ax = plt.subplots(1, 2)\n",
    "sns.scatterplot(data=df_pca, x='Principal Component 1', y='Principal Component 2', hue='class', ax=ax[0])\n",
    "sns.scatterplot(data=df_pca2, x='Principal Component 1', y='Principal Component 2', hue='class', ax=ax[1])\n",
    "plt.subplots_adjust(left=2, right=4)\n",
    "fig.show()"
   ]
  },
  {
   "cell_type": "code",
   "execution_count": null,
   "metadata": {
    "scrolled": false
   },
   "outputs": [],
   "source": [
    "grid3 = GridSearchCV(pipeline, param_grid=param_grid_pca, cv=10)\n",
    "grid3.fit(X_transformed, y_train)\n",
    "\n",
    "print('Best score: {}'.format(grid3.score(X_test_transformed, y_test)))\n",
    "print('Best params: {}'.format(grid3.best_params_))\n",
    "\n",
    "y_pred3 = grid3.predict(X_test_transformed)\n",
    "\n",
    "print('SVM Accuracy with best params: {}'.format(accuracy_score(y_pred3, y_test)))\n",
    "print('Actual test label:    {}'.format(y_test))\n",
    "print('Predicted test label: {}\\n'.format(y_pred3))\n",
    "\n",
    "print(confusion_matrix(y_test, y_pred3), '\\n')\n",
    "\n",
    "print('Precision: {}'.format(precision_score(y_test, y_pred3)))\n",
    "print('Recall: {}'.format(recall_score(y_test, y_pred3)))\n",
    "print('F Score: {}'.format(f1_score(y_test, y_pred3)))\n",
    "\n",
    "ax = plot_decision_regions(X_transformed, y_train, \n",
    "                      clf=grid3, legend=2, \n",
    "                      X_highlight=X_test_transformed, zoom_factor=0.1)\n",
    "\n",
    "handles, labels = ax.get_legend_handles_labels()\n",
    "ax.legend(handles, \n",
    "          ['Weak magnet', 'Strong magnet', 'Test data'], \n",
    "           framealpha=0.3, scatterpoints=1)\n",
    "\n",
    "plt.show()"
   ]
  },
  {
   "cell_type": "code",
   "execution_count": null,
   "metadata": {},
   "outputs": [],
   "source": [
    "grid4 = GridSearchCV(pipeline, param_grid=param_grid_pca, cv=10)\n",
    "grid4.fit(X_transformed2, y_train)\n",
    "\n",
    "print('Best score: {}'.format(grid4.score(X_test_transformed2, y_test)))\n",
    "print('Best params: {}'.format(grid4.best_params_))\n",
    "\n",
    "y_pred4 = grid4.predict(X_test_transformed2)\n",
    "\n",
    "print('SVM Accuracy with best params: {}'.format(accuracy_score(y_pred4, y_test)))\n",
    "print('Actual test label:    {}'.format(y_test))\n",
    "print('Predicted test label: {}\\n'.format(y_pred4))\n",
    "\n",
    "print(confusion_matrix(y_test, y_pred4), '\\n')\n",
    "\n",
    "print('Precision: {}'.format(precision_score(y_test, y_pred4)))\n",
    "print('Recall: {}'.format(recall_score(y_test, y_pred4)))\n",
    "print('F Score: {}'.format(f1_score(y_test, y_pred4)))\n",
    "\n",
    "ax = plot_decision_regions(X_transformed2, y_train, \n",
    "                      clf=grid4, legend=2, \n",
    "                      X_highlight=X_test_transformed2, zoom_factor=0.2)\n",
    "\n",
    "handles, labels = ax.get_legend_handles_labels()\n",
    "ax.legend(handles, \n",
    "          ['Weak magnet', 'Strong magnet', 'Test data'], \n",
    "           framealpha=0.3, scatterpoints=1)\n",
    "\n",
    "plt.show()"
   ]
  },
  {
   "cell_type": "code",
   "execution_count": null,
   "metadata": {},
   "outputs": [],
   "source": []
  }
 ],
 "metadata": {
  "kernelspec": {
   "display_name": "Python 3.7.5 64-bit ('venv': venv)",
   "language": "python",
   "name": "python37564bitvenvvenvbad2833bdd224e9298ceed2e772f59a9"
  },
  "language_info": {
   "codemirror_mode": {
    "name": "ipython",
    "version": 3
   },
   "file_extension": ".py",
   "mimetype": "text/x-python",
   "name": "python",
   "nbconvert_exporter": "python",
   "pygments_lexer": "ipython3",
   "version": "3.7.5"
  }
 },
 "nbformat": 4,
 "nbformat_minor": 2
}
