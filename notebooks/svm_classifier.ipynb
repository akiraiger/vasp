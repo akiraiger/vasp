{
 "cells": [
  {
   "cell_type": "code",
   "execution_count": 341,
   "metadata": {},
   "outputs": [],
   "source": [
    "# Magnetic moment classifier using SVM\n",
    "# https://arxiv.org/abs/1806.07989"
   ]
  },
  {
   "cell_type": "code",
   "execution_count": 342,
   "metadata": {},
   "outputs": [],
   "source": [
    "import warnings\n",
    "warnings.filterwarnings('ignore')"
   ]
  },
  {
   "cell_type": "code",
   "execution_count": 369,
   "metadata": {},
   "outputs": [],
   "source": [
    "import itertools\n",
    "import os\n",
    "\n",
    "import pandas as pd\n",
    "import numpy as np\n",
    "\n",
    "from sklearn.model_selection import GridSearchCV, KFold\n",
    "from sklearn.feature_selection import RFE\n",
    "from sklearn.preprocessing import StandardScaler\n",
    "from sklearn.decomposition import PCA\n",
    "from sklearn.pipeline import Pipeline\n",
    "from sklearn.metrics import accuracy_score, classification_report, confusion_matrix, roc_curve, auc\n",
    "from sklearn.svm import SVC\n",
    "\n",
    "import seaborn as sns\n",
    "import matplotlib.pyplot as plt\n",
    "from mlxtend.plotting import plot_decision_regions\n",
    "\n",
    "from tqdm.notebook import tqdm"
   ]
  },
  {
   "cell_type": "code",
   "execution_count": 370,
   "metadata": {},
   "outputs": [
    {
     "name": "stdout",
     "output_type": "stream",
     "text": [
      "['.DS_Store', 'datatrain.csv', 'datatest.csv', 'magneticmoment_Ef_data.csv']\n"
     ]
    }
   ],
   "source": [
    "print(os.listdir('../datasets'))"
   ]
  },
  {
   "cell_type": "code",
   "execution_count": 371,
   "metadata": {},
   "outputs": [],
   "source": [
    "df_train = pd.read_csv('../datasets/datatrain.csv')\n",
    "df_test = pd.read_csv('../datasets/datatest.csv')\n",
    "\n",
    "X_train = df_train.drop(['structure', 'class'], axis=1)\n",
    "selected_train = df_train[['m1', 'm2', 'mtot', 'fermi', 'nelectrons']]\n",
    "y_train = df_train['class'].values\n",
    "\n",
    "X_test = df_test.drop(['structure', 'class'], axis=1)\n",
    "selected_test = df_test[['m1', 'm2', 'mtot', 'fermi', 'nelectrons']]\n",
    "y_test = df_test['class'].values"
   ]
  },
  {
   "cell_type": "code",
   "execution_count": 372,
   "metadata": {},
   "outputs": [
    {
     "data": {
      "text/html": [
       "<div>\n",
       "<style scoped>\n",
       "    .dataframe tbody tr th:only-of-type {\n",
       "        vertical-align: middle;\n",
       "    }\n",
       "\n",
       "    .dataframe tbody tr th {\n",
       "        vertical-align: top;\n",
       "    }\n",
       "\n",
       "    .dataframe thead th {\n",
       "        text-align: right;\n",
       "    }\n",
       "</style>\n",
       "<table border=\"1\" class=\"dataframe\">\n",
       "  <thead>\n",
       "    <tr style=\"text-align: right;\">\n",
       "      <th></th>\n",
       "      <th>x1</th>\n",
       "      <th>y1</th>\n",
       "      <th>z1</th>\n",
       "      <th>x2</th>\n",
       "      <th>y2</th>\n",
       "      <th>z2</th>\n",
       "      <th>x3</th>\n",
       "      <th>y3</th>\n",
       "      <th>z3</th>\n",
       "      <th>x4</th>\n",
       "      <th>...</th>\n",
       "      <th>m6</th>\n",
       "      <th>m7</th>\n",
       "      <th>m8</th>\n",
       "      <th>m9</th>\n",
       "      <th>m10</th>\n",
       "      <th>mtot</th>\n",
       "      <th>fermi</th>\n",
       "      <th>band</th>\n",
       "      <th>toten</th>\n",
       "      <th>nelectrons</th>\n",
       "    </tr>\n",
       "  </thead>\n",
       "  <tbody>\n",
       "    <tr>\n",
       "      <th>0</th>\n",
       "      <td>3.11426</td>\n",
       "      <td>1.79802</td>\n",
       "      <td>11.54446</td>\n",
       "      <td>6.22852</td>\n",
       "      <td>3.59604</td>\n",
       "      <td>11.54424</td>\n",
       "      <td>-0.0</td>\n",
       "      <td>-0.0</td>\n",
       "      <td>10.34873</td>\n",
       "      <td>-0.0</td>\n",
       "      <td>...</td>\n",
       "      <td>-0.000</td>\n",
       "      <td>-0.000</td>\n",
       "      <td>-0.000</td>\n",
       "      <td>-0.000</td>\n",
       "      <td>-0.000</td>\n",
       "      <td>0.000</td>\n",
       "      <td>-3.158349</td>\n",
       "      <td>-483.374457</td>\n",
       "      <td>-40.380609</td>\n",
       "      <td>62.0</td>\n",
       "    </tr>\n",
       "    <tr>\n",
       "      <th>1</th>\n",
       "      <td>3.38614</td>\n",
       "      <td>1.95499</td>\n",
       "      <td>11.00558</td>\n",
       "      <td>6.77228</td>\n",
       "      <td>3.90998</td>\n",
       "      <td>11.00853</td>\n",
       "      <td>0.0</td>\n",
       "      <td>-0.0</td>\n",
       "      <td>9.86708</td>\n",
       "      <td>0.0</td>\n",
       "      <td>...</td>\n",
       "      <td>-0.000</td>\n",
       "      <td>-0.000</td>\n",
       "      <td>-0.000</td>\n",
       "      <td>-0.000</td>\n",
       "      <td>-0.000</td>\n",
       "      <td>0.000</td>\n",
       "      <td>-1.873443</td>\n",
       "      <td>-379.251497</td>\n",
       "      <td>-35.261134</td>\n",
       "      <td>62.0</td>\n",
       "    </tr>\n",
       "    <tr>\n",
       "      <th>2</th>\n",
       "      <td>3.11492</td>\n",
       "      <td>1.79840</td>\n",
       "      <td>10.62429</td>\n",
       "      <td>6.22985</td>\n",
       "      <td>3.59680</td>\n",
       "      <td>10.62447</td>\n",
       "      <td>-0.0</td>\n",
       "      <td>0.0</td>\n",
       "      <td>9.51753</td>\n",
       "      <td>-0.0</td>\n",
       "      <td>...</td>\n",
       "      <td>0.044</td>\n",
       "      <td>0.061</td>\n",
       "      <td>0.015</td>\n",
       "      <td>0.010</td>\n",
       "      <td>0.013</td>\n",
       "      <td>0.547</td>\n",
       "      <td>-2.335318</td>\n",
       "      <td>-482.074122</td>\n",
       "      <td>-41.354746</td>\n",
       "      <td>63.0</td>\n",
       "    </tr>\n",
       "    <tr>\n",
       "      <th>3</th>\n",
       "      <td>3.39551</td>\n",
       "      <td>1.96040</td>\n",
       "      <td>10.40155</td>\n",
       "      <td>6.79103</td>\n",
       "      <td>3.92081</td>\n",
       "      <td>10.40574</td>\n",
       "      <td>-0.0</td>\n",
       "      <td>-0.0</td>\n",
       "      <td>9.32076</td>\n",
       "      <td>-0.0</td>\n",
       "      <td>...</td>\n",
       "      <td>0.034</td>\n",
       "      <td>0.040</td>\n",
       "      <td>0.005</td>\n",
       "      <td>0.011</td>\n",
       "      <td>0.004</td>\n",
       "      <td>0.524</td>\n",
       "      <td>-1.352459</td>\n",
       "      <td>-389.016012</td>\n",
       "      <td>-36.503814</td>\n",
       "      <td>63.0</td>\n",
       "    </tr>\n",
       "    <tr>\n",
       "      <th>4</th>\n",
       "      <td>3.08785</td>\n",
       "      <td>1.78277</td>\n",
       "      <td>10.83735</td>\n",
       "      <td>6.17572</td>\n",
       "      <td>3.56555</td>\n",
       "      <td>10.83811</td>\n",
       "      <td>-0.0</td>\n",
       "      <td>-0.0</td>\n",
       "      <td>9.72958</td>\n",
       "      <td>0.0</td>\n",
       "      <td>...</td>\n",
       "      <td>0.000</td>\n",
       "      <td>0.000</td>\n",
       "      <td>0.000</td>\n",
       "      <td>0.000</td>\n",
       "      <td>0.000</td>\n",
       "      <td>-0.000</td>\n",
       "      <td>-3.043384</td>\n",
       "      <td>-472.035630</td>\n",
       "      <td>-41.755620</td>\n",
       "      <td>62.0</td>\n",
       "    </tr>\n",
       "  </tbody>\n",
       "</table>\n",
       "<p>5 rows × 45 columns</p>\n",
       "</div>"
      ],
      "text/plain": [
       "        x1       y1        z1       x2       y2        z2   x3   y3        z3  \\\n",
       "0  3.11426  1.79802  11.54446  6.22852  3.59604  11.54424 -0.0 -0.0  10.34873   \n",
       "1  3.38614  1.95499  11.00558  6.77228  3.90998  11.00853  0.0 -0.0   9.86708   \n",
       "2  3.11492  1.79840  10.62429  6.22985  3.59680  10.62447 -0.0  0.0   9.51753   \n",
       "3  3.39551  1.96040  10.40155  6.79103  3.92081  10.40574 -0.0 -0.0   9.32076   \n",
       "4  3.08785  1.78277  10.83735  6.17572  3.56555  10.83811 -0.0 -0.0   9.72958   \n",
       "\n",
       "    x4  ...     m6     m7     m8     m9    m10   mtot     fermi        band  \\\n",
       "0 -0.0  ... -0.000 -0.000 -0.000 -0.000 -0.000  0.000 -3.158349 -483.374457   \n",
       "1  0.0  ... -0.000 -0.000 -0.000 -0.000 -0.000  0.000 -1.873443 -379.251497   \n",
       "2 -0.0  ...  0.044  0.061  0.015  0.010  0.013  0.547 -2.335318 -482.074122   \n",
       "3 -0.0  ...  0.034  0.040  0.005  0.011  0.004  0.524 -1.352459 -389.016012   \n",
       "4  0.0  ...  0.000  0.000  0.000  0.000  0.000 -0.000 -3.043384 -472.035630   \n",
       "\n",
       "       toten  nelectrons  \n",
       "0 -40.380609        62.0  \n",
       "1 -35.261134        62.0  \n",
       "2 -41.354746        63.0  \n",
       "3 -36.503814        63.0  \n",
       "4 -41.755620        62.0  \n",
       "\n",
       "[5 rows x 45 columns]"
      ]
     },
     "execution_count": 372,
     "metadata": {},
     "output_type": "execute_result"
    }
   ],
   "source": [
    "X_train.head()"
   ]
  },
  {
   "cell_type": "code",
   "execution_count": 373,
   "metadata": {},
   "outputs": [
    {
     "data": {
      "text/html": [
       "<div>\n",
       "<style scoped>\n",
       "    .dataframe tbody tr th:only-of-type {\n",
       "        vertical-align: middle;\n",
       "    }\n",
       "\n",
       "    .dataframe tbody tr th {\n",
       "        vertical-align: top;\n",
       "    }\n",
       "\n",
       "    .dataframe thead th {\n",
       "        text-align: right;\n",
       "    }\n",
       "</style>\n",
       "<table border=\"1\" class=\"dataframe\">\n",
       "  <thead>\n",
       "    <tr style=\"text-align: right;\">\n",
       "      <th></th>\n",
       "      <th>m1</th>\n",
       "      <th>m2</th>\n",
       "      <th>mtot</th>\n",
       "      <th>fermi</th>\n",
       "      <th>nelectrons</th>\n",
       "    </tr>\n",
       "  </thead>\n",
       "  <tbody>\n",
       "    <tr>\n",
       "      <th>0</th>\n",
       "      <td>0.000</td>\n",
       "      <td>0.000</td>\n",
       "      <td>0.000</td>\n",
       "      <td>-3.158349</td>\n",
       "      <td>62.0</td>\n",
       "    </tr>\n",
       "    <tr>\n",
       "      <th>1</th>\n",
       "      <td>0.000</td>\n",
       "      <td>0.000</td>\n",
       "      <td>0.000</td>\n",
       "      <td>-1.873443</td>\n",
       "      <td>62.0</td>\n",
       "    </tr>\n",
       "    <tr>\n",
       "      <th>2</th>\n",
       "      <td>0.142</td>\n",
       "      <td>0.142</td>\n",
       "      <td>0.547</td>\n",
       "      <td>-2.335318</td>\n",
       "      <td>63.0</td>\n",
       "    </tr>\n",
       "    <tr>\n",
       "      <th>3</th>\n",
       "      <td>0.177</td>\n",
       "      <td>0.177</td>\n",
       "      <td>0.524</td>\n",
       "      <td>-1.352459</td>\n",
       "      <td>63.0</td>\n",
       "    </tr>\n",
       "    <tr>\n",
       "      <th>4</th>\n",
       "      <td>-0.000</td>\n",
       "      <td>-0.000</td>\n",
       "      <td>-0.000</td>\n",
       "      <td>-3.043384</td>\n",
       "      <td>62.0</td>\n",
       "    </tr>\n",
       "  </tbody>\n",
       "</table>\n",
       "</div>"
      ],
      "text/plain": [
       "      m1     m2   mtot     fermi  nelectrons\n",
       "0  0.000  0.000  0.000 -3.158349        62.0\n",
       "1  0.000  0.000  0.000 -1.873443        62.0\n",
       "2  0.142  0.142  0.547 -2.335318        63.0\n",
       "3  0.177  0.177  0.524 -1.352459        63.0\n",
       "4 -0.000 -0.000 -0.000 -3.043384        62.0"
      ]
     },
     "execution_count": 373,
     "metadata": {},
     "output_type": "execute_result"
    }
   ],
   "source": [
    "selected_train.head()"
   ]
  },
  {
   "cell_type": "code",
   "execution_count": 374,
   "metadata": {},
   "outputs": [],
   "source": [
    "pca = PCA(n_components=2)\n",
    "pca2 = PCA(n_components=2)\n",
    "\n",
    "# PCA with all features\n",
    "X_transformed = pca.fit_transform(X_train)\n",
    "columns = ['Principal Component 1', 'Principal Component 2']\n",
    "\n",
    "df_pca = pd.DataFrame(data=X_transformed, columns=columns)\n",
    "df_pca = pd.concat([df_pca['Principal Component 1'], df_pca['Principal Component 2'], df_train['class']], axis = 1)\n",
    "\n",
    "# PCA with selected features\n",
    "selected_transformed = pca2.fit_transform(selected_train)\n",
    "columns = ['Principal Component 1', 'Principal Component 2']\n",
    "\n",
    "df_pca2 = pd.DataFrame(data=selected_transformed, columns=columns)\n",
    "df_pca2 = pd.concat([df_pca2['Principal Component 1'], df_pca2['Principal Component 2'], df_train['class']], axis = 1)"
   ]
  },
  {
   "cell_type": "code",
   "execution_count": 375,
   "metadata": {},
   "outputs": [
    {
     "name": "stdout",
     "output_type": "stream",
     "text": [
      "PCA with all features variance ratio:      [0.97681448 0.01741144]\n",
      "PCA with selected features variance ratio: [0.94642227 0.03696009]\n"
     ]
    }
   ],
   "source": [
    "print('PCA with all features variance ratio:      {}'.format(pca.explained_variance_ratio_))\n",
    "print('PCA with selected features variance ratio: {}'.format(pca2.explained_variance_ratio_))"
   ]
  },
  {
   "cell_type": "code",
   "execution_count": 376,
   "metadata": {},
   "outputs": [
    {
     "data": {
      "image/png": "[encoded data removed]",
      "text/plain": [
       "<Figure size 432x288 with 2 Axes>"
      ]
     },
     "metadata": {
      "needs_background": "light"
     },
     "output_type": "display_data"
    }
   ],
   "source": [
    "fig, ax =plt.subplots(1,2)\n",
    "ax[0].set_title('Full features PCA')\n",
    "ax[1].set_title('Selected features PCA')\n",
    "sns.scatterplot(data=df_pca, x='Principal Component 1', y='Principal Component 2', hue='class', ax=ax[0])\n",
    "sns.scatterplot(data=df_pca2, x='Principal Component 1', y='Principal Component 2', hue='class', ax=ax[1])\n",
    "plt.subplots_adjust(left=2, right=4)\n",
    "fig.show()"
   ]
  },
  {
   "cell_type": "code",
   "execution_count": 377,
   "metadata": {},
   "outputs": [],
   "source": [
    "pipe = [('pca', PCA()), ('classifier', SVC())]\n",
    "param_grid = {\n",
    "    'pca__n_components': [2],\n",
    "    'classifier__kernel': ['rbf', 'linear'],\n",
    "    'classifier__C': [0.1, 0.5, 1, 10, 30, 40, 50, 70, 100, 500, 1000],\n",
    "    'classifier__gamma': [0.0001, 0.001, 0.005, 0.01, 0.05, 0.07, 0.1, 0.5, 1, 5, 10, 50]\n",
    "}\n",
    "\n",
    "pipeline = Pipeline(pipe)"
   ]
  },
  {
   "cell_type": "code",
   "execution_count": 378,
   "metadata": {
    "scrolled": true
   },
   "outputs": [
    {
     "name": "stdout",
     "output_type": "stream",
     "text": [
      "Tuning SVM hyperparameters with full features used\n"
     ]
    },
    {
     "data": {
      "application/vnd.jupyter.widget-view+json": {
       "model_id": "f3152cc455ee4311abf3afcfc572af27",
       "version_major": 2,
       "version_minor": 0
      },
      "text/plain": [
       "HBox(children=(FloatProgress(value=0.0, max=5.0), HTML(value='')))"
      ]
     },
     "metadata": {},
     "output_type": "display_data"
    },
    {
     "name": "stdout",
     "output_type": "stream",
     "text": [
      "Score for 4 KFold: 93.75%\n",
      "{'classifier__C': 0.1, 'classifier__gamma': 0.0001, 'classifier__kernel': 'linear', 'pca__n_components': 2}\n",
      "\n",
      "Score for 5 KFold: 93.75%\n",
      "{'classifier__C': 0.1, 'classifier__gamma': 0.0001, 'classifier__kernel': 'linear', 'pca__n_components': 2}\n",
      "\n",
      "Score for 6 KFold: 93.75%\n",
      "{'classifier__C': 0.1, 'classifier__gamma': 0.0001, 'classifier__kernel': 'linear', 'pca__n_components': 2}\n",
      "\n",
      "Score for 7 KFold: 93.75%\n",
      "{'classifier__C': 0.1, 'classifier__gamma': 0.0001, 'classifier__kernel': 'linear', 'pca__n_components': 2}\n",
      "\n",
      "Score for 8 KFold: 93.75%\n",
      "{'classifier__C': 0.1, 'classifier__gamma': 0.0001, 'classifier__kernel': 'linear', 'pca__n_components': 2}\n",
      "\n",
      "\n"
     ]
    }
   ],
   "source": [
    "test_transformed = pca.transform(X_test)\n",
    "\n",
    "print('Tuning SVM hyperparameters with full features used')\n",
    "for n in tqdm(range(4, 9)):\n",
    "    grid = GridSearchCV(pipeline, param_grid=param_grid, cv=KFold(n_splits=n))\n",
    "    grid.fit(X_transformed, y_train)\n",
    "    print('Score for {} KFold: {}%'.format(n, grid.score(test_transformed, y_test) * 100))\n",
    "    print(grid.best_params_)\n",
    "    print()"
   ]
  },
  {
   "cell_type": "code",
   "execution_count": 379,
   "metadata": {},
   "outputs": [
    {
     "name": "stdout",
     "output_type": "stream",
     "text": [
      "Tuning SVM hyperparameters with only selected features\n"
     ]
    },
    {
     "data": {
      "application/vnd.jupyter.widget-view+json": {
       "model_id": "37e1dab05fb14d35b753d1ef1e21b530",
       "version_major": 2,
       "version_minor": 0
      },
      "text/plain": [
       "HBox(children=(FloatProgress(value=0.0, max=5.0), HTML(value='')))"
      ]
     },
     "metadata": {},
     "output_type": "display_data"
    },
    {
     "name": "stdout",
     "output_type": "stream",
     "text": [
      "Score for 4 KFold: 100.0%\n",
      "{'classifier__C': 0.1, 'classifier__gamma': 0.0001, 'classifier__kernel': 'linear', 'pca__n_components': 2}\n",
      "\n",
      "Score for 5 KFold: 100.0%\n",
      "{'classifier__C': 0.1, 'classifier__gamma': 0.0001, 'classifier__kernel': 'linear', 'pca__n_components': 2}\n",
      "\n",
      "Score for 6 KFold: 100.0%\n",
      "{'classifier__C': 0.1, 'classifier__gamma': 0.0001, 'classifier__kernel': 'linear', 'pca__n_components': 2}\n",
      "\n",
      "Score for 7 KFold: 100.0%\n",
      "{'classifier__C': 0.1, 'classifier__gamma': 0.0001, 'classifier__kernel': 'linear', 'pca__n_components': 2}\n",
      "\n",
      "Score for 8 KFold: 100.0%\n",
      "{'classifier__C': 0.1, 'classifier__gamma': 0.0001, 'classifier__kernel': 'linear', 'pca__n_components': 2}\n",
      "\n",
      "\n"
     ]
    }
   ],
   "source": [
    "test_transformed2 = pca2.transform(selected_test)\n",
    "\n",
    "print('Tuning SVM hyperparameters with only selected features')\n",
    "for n in tqdm(range(4, 9)):\n",
    "    grid2 = GridSearchCV(pipeline, param_grid=param_grid, cv=KFold(n_splits=n))\n",
    "    grid2.fit(selected_transformed, y_train)\n",
    "    print('Score for {} KFold: {}%'.format(n, grid2.score(test_transformed2, y_test) * 100))\n",
    "    print(grid2.best_params_)\n",
    "    print()"
   ]
  },
  {
   "cell_type": "code",
   "execution_count": 380,
   "metadata": {
    "scrolled": true
   },
   "outputs": [
    {
     "data": {
      "text/plain": [
       "SVC(C=0.1, break_ties=False, cache_size=200, class_weight=None, coef0=0.0,\n",
       "    decision_function_shape='ovr', degree=3, gamma=0.0001, kernel='linear',\n",
       "    max_iter=-1, probability=False, random_state=None, shrinking=True,\n",
       "    tol=0.001, verbose=False)"
      ]
     },
     "execution_count": 380,
     "metadata": {},
     "output_type": "execute_result"
    }
   ],
   "source": [
    "clf = SVC(kernel=grid.best_params_['classifier__kernel'],\n",
    "          gamma=grid.best_params_['classifier__gamma'],\n",
    "          C=grid.best_params_['classifier__C'])\n",
    "clf.fit(X_transformed, y_train)"
   ]
  },
  {
   "cell_type": "code",
   "execution_count": 381,
   "metadata": {},
   "outputs": [
    {
     "name": "stdout",
     "output_type": "stream",
     "text": [
      "SVM Accuracy with best params: 93.75%\n",
      "Actual test label:    [0 0 0 0 1 1 1 1 1 1 0 0 0 0 0 0]\n",
      "Predicted test label: [0 0 1 0 1 1 1 1 1 1 0 0 0 0 0 0]\n"
     ]
    }
   ],
   "source": [
    "y_pred = clf.predict(test_transformed)\n",
    "print('SVM Accuracy with best params: {}%'.format(accuracy_score(y_pred, y_test) * 100))\n",
    "print('Actual test label:    {}'.format(y_test))\n",
    "print('Predicted test label: {}'.format(y_pred))"
   ]
  },
  {
   "cell_type": "code",
   "execution_count": 382,
   "metadata": {},
   "outputs": [
    {
     "data": {
      "text/plain": [
       "<matplotlib.axes._subplots.AxesSubplot at 0x124c7a9d0>"
      ]
     },
     "execution_count": 382,
     "metadata": {},
     "output_type": "execute_result"
    },
    {
     "data": {
      "image/png": "[encoded data removed]",
      "text/plain": [
       "<Figure size 432x288 with 1 Axes>"
      ]
     },
     "metadata": {
      "needs_background": "light"
     },
     "output_type": "display_data"
    }
   ],
   "source": [
    "plt.title('Decision regions with full features')\n",
    "plot_decision_regions(X_transformed, y_train, clf=clf, legend=2)"
   ]
  },
  {
   "cell_type": "code",
   "execution_count": 383,
   "metadata": {},
   "outputs": [
    {
     "data": {
      "text/plain": [
       "SVC(C=0.1, break_ties=False, cache_size=200, class_weight=None, coef0=0.0,\n",
       "    decision_function_shape='ovr', degree=3, gamma=0.0001, kernel='linear',\n",
       "    max_iter=-1, probability=False, random_state=None, shrinking=True,\n",
       "    tol=0.001, verbose=False)"
      ]
     },
     "execution_count": 383,
     "metadata": {},
     "output_type": "execute_result"
    }
   ],
   "source": [
    "clf2 = SVC(kernel=grid2.best_params_['classifier__kernel'],\n",
    "          gamma=grid2.best_params_['classifier__gamma'],\n",
    "          C=grid2.best_params_['classifier__C'])\n",
    "clf2.fit(selected_transformed, y_train)"
   ]
  },
  {
   "cell_type": "code",
   "execution_count": 384,
   "metadata": {},
   "outputs": [
    {
     "name": "stdout",
     "output_type": "stream",
     "text": [
      "SVM Accuracy with best params: 100.0%\n",
      "Actual test label:    [0 0 0 0 1 1 1 1 1 1 0 0 0 0 0 0]\n",
      "Predicted test label: [0 0 0 0 1 1 1 1 1 1 0 0 0 0 0 0]\n"
     ]
    }
   ],
   "source": [
    "y_pred2 = clf2.predict(test_transformed2)\n",
    "print('SVM Accuracy with best params: {}%'.format(accuracy_score(y_pred2, y_test) * 100))\n",
    "print('Actual test label:    {}'.format(y_test))\n",
    "print('Predicted test label: {}'.format(y_pred2))"
   ]
  },
  {
   "cell_type": "code",
   "execution_count": 385,
   "metadata": {},
   "outputs": [
    {
     "data": {
      "text/plain": [
       "<matplotlib.axes._subplots.AxesSubplot at 0x12714f5d0>"
      ]
     },
     "execution_count": 385,
     "metadata": {},
     "output_type": "execute_result"
    },
    {
     "data": {
      "image/png": "[encoded data removed]",
      "text/plain": [
       "<Figure size 432x288 with 1 Axes>"
      ]
     },
     "metadata": {
      "needs_background": "light"
     },
     "output_type": "display_data"
    }
   ],
   "source": [
    "plt.title('Decisionon regions with selected features')\n",
    "plot_decision_regions(selected_transformed, y_train, clf=clf2, legend=2)"
   ]
  },
  {
   "cell_type": "code",
   "execution_count": 386,
   "metadata": {},
   "outputs": [
    {
     "name": "stdout",
     "output_type": "stream",
     "text": [
      "Chosen best 5 features by RFE: Index(['m1', 'm2', 'mtot', 'fermi', 'nelectrons'], dtype='object')\n"
     ]
    }
   ],
   "source": [
    "rfe = RFE(estimator=clf, n_features_to_select=5, step=1)\n",
    "rfe = rfe.fit(X_train, y_train)\n",
    "\n",
    "print('Chosen best 5 features by RFE: {}'.format(X_train.columns[rfe.support_]))"
   ]
  },
  {
   "cell_type": "code",
   "execution_count": 387,
   "metadata": {},
   "outputs": [],
   "source": [
    "def plot_confusion_matrix(cm, classes):\n",
    "    plt.imshow(cm, interpolation='nearest', cmap=plt.cm.Blues)\n",
    "    plt.title('Confusion matrix')\n",
    "    plt.colorbar()\n",
    "    tick_marks = np.arange(len(classes))\n",
    "    plt.xticks(tick_marks, classes, rotation=45)\n",
    "    plt.yticks(tick_marks, classes)\n",
    "    fmt = 'd' \n",
    "    thresh = cm.max() / 2.\n",
    "    for i, j in itertools.product(range(cm.shape[0]), range(cm.shape[1])):\n",
    "        plt.text(j, i, format(cm[i, j], fmt),\n",
    "                 horizontalalignment=\"center\",\n",
    "                 color=\"white\" if cm[i, j] > thresh else \"black\")\n",
    "    plt.tight_layout()\n",
    "    plt.ylabel('Actual label')\n",
    "    plt.xlabel('Predicted label')"
   ]
  },
  {
   "cell_type": "code",
   "execution_count": 388,
   "metadata": {},
   "outputs": [
    {
     "data": {
      "image/png": "[encoded data removed]",
      "text/plain": [
       "<Figure size 432x288 with 2 Axes>"
      ]
     },
     "metadata": {
      "needs_background": "light"
     },
     "output_type": "display_data"
    }
   ],
   "source": [
    "cm = confusion_matrix(y_test, y_pred)\n",
    "plot_confusion_matrix(cm, [0, 1])"
   ]
  },
  {
   "cell_type": "code",
   "execution_count": 389,
   "metadata": {},
   "outputs": [
    {
     "name": "stdout",
     "output_type": "stream",
     "text": [
      "              precision    recall  f1-score   support\n",
      "\n",
      "           0       1.00      0.90      0.95        10\n",
      "           1       0.86      1.00      0.92         6\n",
      "\n",
      "    accuracy                           0.94        16\n",
      "   macro avg       0.93      0.95      0.94        16\n",
      "weighted avg       0.95      0.94      0.94        16\n",
      "\n"
     ]
    }
   ],
   "source": [
    "print(classification_report(y_test, y_pred))"
   ]
  },
  {
   "cell_type": "code",
   "execution_count": 390,
   "metadata": {},
   "outputs": [
    {
     "data": {
      "image/png": "[encoded data removed]",
      "text/plain": [
       "<Figure size 432x288 with 2 Axes>"
      ]
     },
     "metadata": {
      "needs_background": "light"
     },
     "output_type": "display_data"
    }
   ],
   "source": [
    "cm2 = confusion_matrix(y_test, y_pred2)\n",
    "plot_confusion_matrix(cm2, [0, 1])"
   ]
  },
  {
   "cell_type": "code",
   "execution_count": 391,
   "metadata": {},
   "outputs": [
    {
     "name": "stdout",
     "output_type": "stream",
     "text": [
      "              precision    recall  f1-score   support\n",
      "\n",
      "           0       1.00      1.00      1.00        10\n",
      "           1       1.00      1.00      1.00         6\n",
      "\n",
      "    accuracy                           1.00        16\n",
      "   macro avg       1.00      1.00      1.00        16\n",
      "weighted avg       1.00      1.00      1.00        16\n",
      "\n"
     ]
    }
   ],
   "source": [
    "print(classification_report(y_test, y_pred2))"
   ]
  },
  {
   "cell_type": "code",
   "execution_count": 392,
   "metadata": {},
   "outputs": [
    {
     "data": {
      "image/png": "[encoded data removed]",
      "text/plain": [
       "<Figure size 432x288 with 1 Axes>"
      ]
     },
     "metadata": {
      "needs_background": "light"
     },
     "output_type": "display_data"
    }
   ],
   "source": [
    "# All features\n",
    "fpr, tpr, thresholds = roc_curve(y_test, y_pred)\n",
    "roc_auc = auc(fpr, tpr)\n",
    "\n",
    "# Selected features\n",
    "fpr2, tpr2, thresholds2 = roc_curve(y_test, y_pred2)\n",
    "roc_auc2 = auc(fpr2, tpr2)\n",
    "\n",
    "plt.figure()\n",
    "plt.plot(fpr, tpr, 'bo-', label='ROC with all features = %f' %roc_auc)\n",
    "plt.plot(fpr2, tpr2, 'ro-', label='ROC with selected features = %f' %roc_auc2)\n",
    "plt.plot([0,1], [0,1], 'k--')\n",
    "plt.xlabel('False positive rate')\n",
    "plt.ylabel('True positive rate')\n",
    "plt.title('ROC curve')\n",
    "plt.legend(loc='lower right')\n",
    "plt.show()"
   ]
  },
  {
   "cell_type": "code",
   "execution_count": null,
   "metadata": {},
   "outputs": [],
   "source": []
  }
 ],
 "metadata": {
  "kernelspec": {
   "display_name": "Python 3",
   "language": "python",
   "name": "python3"
  },
  "language_info": {
   "codemirror_mode": {
    "name": "ipython",
    "version": 3
   },
   "file_extension": ".py",
   "mimetype": "text/x-python",
   "name": "python",
   "nbconvert_exporter": "python",
   "pygments_lexer": "ipython3",
   "version": "3.7.5"
  }
 },
 "nbformat": 4,
 "nbformat_minor": 2
}
