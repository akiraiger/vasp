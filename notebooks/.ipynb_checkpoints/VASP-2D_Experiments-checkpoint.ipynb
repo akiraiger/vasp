{
 "cells": [
  {
   "cell_type": "markdown",
   "metadata": {},
   "source": [
    "# Libraries\n",
    "\n",
    "API docs:\n",
    "- http://scikit-learn.org/stable/modules/generated/sklearn.svm.SVC.html\n",
    "- https://scikit-learn.org/stable/modules/generated/sklearn.model_selection.GridSearchCV.html"
   ]
  },
  {
   "cell_type": "code",
   "execution_count": 289,
   "metadata": {},
   "outputs": [],
   "source": [
    "import os\n",
    "\n",
    "import pandas as pd\n",
    "import numpy as np\n",
    "\n",
    "from sklearn import preprocessing, metrics\n",
    "from sklearn.utils import shuffle\n",
    "from sklearn.model_selection import train_test_split\n",
    "from sklearn.metrics import classification_report, confusion_matrix, roc_curve, auc\n",
    "from sklearn.model_selection import cross_val_score, GridSearchCV, StratifiedShuffleSplit\n",
    "from sklearn.svm import SVC\n",
    "\n",
    "import matplotlib.pyplot as plt"
   ]
  },
  {
   "cell_type": "markdown",
   "metadata": {},
   "source": [
    "# Parse VASP Result\n",
    "\n",
    "TBA"
   ]
  },
  {
   "cell_type": "code",
   "execution_count": 293,
   "metadata": {},
   "outputs": [],
   "source": [
    "# Put any preprocessing in this block"
   ]
  },
  {
   "cell_type": "markdown",
   "metadata": {},
   "source": [
    "# Preparing Data\n",
    "\n",
    "Some data preparation best practices:\n",
    "- https://towardsdatascience.com/6-amateur-mistakes-ive-made-working-with-train-test-splits-916fabb421bb"
   ]
  },
  {
   "cell_type": "code",
   "execution_count": 292,
   "metadata": {},
   "outputs": [
    {
     "name": "stdout",
     "output_type": "stream",
     "text": [
      "['test.csv', 'train.csv', 'ni.csv']\n"
     ]
    }
   ],
   "source": [
    "print os.listdir('../datasets/input')"
   ]
  },
  {
   "cell_type": "code",
   "execution_count": 279,
   "metadata": {},
   "outputs": [
    {
     "name": "stdout",
     "output_type": "stream",
     "text": [
      "(128, 39) (64, 39)\n"
     ]
    }
   ],
   "source": [
    "# df = pd.read_csv('../datasets/input/ni.csv')\n",
    "# X = df.drop(['class'], axis=1)\n",
    "# y = df['class'].values.astype(object)\n",
    "# X_train, X_test, y_train, y_test = train_test_split(X, y, test_size = 0.20)\n",
    "\n",
    "train = shuffle(pd.read_csv('../datasets/input/train.csv'))\n",
    "test = shuffle(pd.read_csv('../datasets/input/test.csv'))\n",
    "\n",
    "X_train = train.drop(['class'], axis=1)\n",
    "y_train = train['class'].values\n",
    "X_test = test.drop(['class'], axis=1)\n",
    "y_test = test['class'].values\n",
    "\n",
    "print X_train.shape, X_test.shape"
   ]
  },
  {
   "cell_type": "code",
   "execution_count": 280,
   "metadata": {},
   "outputs": [
    {
     "data": {
      "text/html": [
       "<div>\n",
       "<style scoped>\n",
       "    .dataframe tbody tr th:only-of-type {\n",
       "        vertical-align: middle;\n",
       "    }\n",
       "\n",
       "    .dataframe tbody tr th {\n",
       "        vertical-align: top;\n",
       "    }\n",
       "\n",
       "    .dataframe thead th {\n",
       "        text-align: right;\n",
       "    }\n",
       "</style>\n",
       "<table border=\"1\" class=\"dataframe\">\n",
       "  <thead>\n",
       "    <tr style=\"text-align: right;\">\n",
       "      <th></th>\n",
       "      <th>x1</th>\n",
       "      <th>y1</th>\n",
       "      <th>z1</th>\n",
       "      <th>x2</th>\n",
       "      <th>y2</th>\n",
       "      <th>z2</th>\n",
       "      <th>x3</th>\n",
       "      <th>y3</th>\n",
       "      <th>z3</th>\n",
       "      <th>x4</th>\n",
       "      <th>...</th>\n",
       "      <th>z10</th>\n",
       "      <th>m1</th>\n",
       "      <th>m2</th>\n",
       "      <th>m3</th>\n",
       "      <th>m4</th>\n",
       "      <th>m5</th>\n",
       "      <th>mtot</th>\n",
       "      <th>fermi</th>\n",
       "      <th>band</th>\n",
       "      <th>toten</th>\n",
       "    </tr>\n",
       "  </thead>\n",
       "  <tbody>\n",
       "    <tr>\n",
       "      <th>56</th>\n",
       "      <td>1.371850</td>\n",
       "      <td>1.956442</td>\n",
       "      <td>0.838505</td>\n",
       "      <td>0.855238</td>\n",
       "      <td>1.927284</td>\n",
       "      <td>1.203376</td>\n",
       "      <td>1.080907</td>\n",
       "      <td>1.940793</td>\n",
       "      <td>1.471447</td>\n",
       "      <td>1.922335</td>\n",
       "      <td>...</td>\n",
       "      <td>0.462054</td>\n",
       "      <td>0.447247</td>\n",
       "      <td>0.453794</td>\n",
       "      <td>0.069828</td>\n",
       "      <td>0.126752</td>\n",
       "      <td>0.212193</td>\n",
       "      <td>1.309814</td>\n",
       "      <td>0.466977</td>\n",
       "      <td>-115.267038</td>\n",
       "      <td>-27.937542</td>\n",
       "    </tr>\n",
       "    <tr>\n",
       "      <th>82</th>\n",
       "      <td>1.598116</td>\n",
       "      <td>0.211631</td>\n",
       "      <td>0.346318</td>\n",
       "      <td>1.839197</td>\n",
       "      <td>1.138368</td>\n",
       "      <td>1.383090</td>\n",
       "      <td>1.649057</td>\n",
       "      <td>0.417886</td>\n",
       "      <td>0.689226</td>\n",
       "      <td>1.049812</td>\n",
       "      <td>...</td>\n",
       "      <td>1.716419</td>\n",
       "      <td>0.954973</td>\n",
       "      <td>0.965961</td>\n",
       "      <td>0.208927</td>\n",
       "      <td>0.492311</td>\n",
       "      <td>0.784864</td>\n",
       "      <td>3.407036</td>\n",
       "      <td>0.447093</td>\n",
       "      <td>-91.762150</td>\n",
       "      <td>-18.172861</td>\n",
       "    </tr>\n",
       "    <tr>\n",
       "      <th>101</th>\n",
       "      <td>0.979837</td>\n",
       "      <td>1.631199</td>\n",
       "      <td>1.636299</td>\n",
       "      <td>0.682763</td>\n",
       "      <td>1.529578</td>\n",
       "      <td>0.643341</td>\n",
       "      <td>1.791001</td>\n",
       "      <td>0.079554</td>\n",
       "      <td>0.094649</td>\n",
       "      <td>1.787342</td>\n",
       "      <td>...</td>\n",
       "      <td>1.768057</td>\n",
       "      <td>0.549867</td>\n",
       "      <td>0.437954</td>\n",
       "      <td>0.356820</td>\n",
       "      <td>0.544860</td>\n",
       "      <td>0.655191</td>\n",
       "      <td>2.544693</td>\n",
       "      <td>0.695636</td>\n",
       "      <td>-120.604812</td>\n",
       "      <td>-1.807440</td>\n",
       "    </tr>\n",
       "    <tr>\n",
       "      <th>4</th>\n",
       "      <td>1.438282</td>\n",
       "      <td>1.561723</td>\n",
       "      <td>0.524540</td>\n",
       "      <td>0.784471</td>\n",
       "      <td>1.471769</td>\n",
       "      <td>1.334637</td>\n",
       "      <td>1.943356</td>\n",
       "      <td>1.983835</td>\n",
       "      <td>1.011546</td>\n",
       "      <td>0.869539</td>\n",
       "      <td>...</td>\n",
       "      <td>0.429976</td>\n",
       "      <td>0.282354</td>\n",
       "      <td>0.775516</td>\n",
       "      <td>0.499140</td>\n",
       "      <td>0.865310</td>\n",
       "      <td>0.509904</td>\n",
       "      <td>2.932224</td>\n",
       "      <td>0.093601</td>\n",
       "      <td>-139.861145</td>\n",
       "      <td>-1.287547</td>\n",
       "    </tr>\n",
       "    <tr>\n",
       "      <th>26</th>\n",
       "      <td>0.391476</td>\n",
       "      <td>0.127394</td>\n",
       "      <td>0.239465</td>\n",
       "      <td>1.976987</td>\n",
       "      <td>1.961308</td>\n",
       "      <td>1.224274</td>\n",
       "      <td>0.527980</td>\n",
       "      <td>0.565476</td>\n",
       "      <td>1.099089</td>\n",
       "      <td>1.750463</td>\n",
       "      <td>...</td>\n",
       "      <td>1.985790</td>\n",
       "      <td>0.414693</td>\n",
       "      <td>0.217899</td>\n",
       "      <td>0.854972</td>\n",
       "      <td>0.782541</td>\n",
       "      <td>0.086332</td>\n",
       "      <td>2.356437</td>\n",
       "      <td>0.004324</td>\n",
       "      <td>-62.278363</td>\n",
       "      <td>-39.192820</td>\n",
       "    </tr>\n",
       "    <tr>\n",
       "      <th>96</th>\n",
       "      <td>0.683124</td>\n",
       "      <td>1.819606</td>\n",
       "      <td>1.392288</td>\n",
       "      <td>1.060372</td>\n",
       "      <td>0.826310</td>\n",
       "      <td>1.049760</td>\n",
       "      <td>0.035376</td>\n",
       "      <td>1.118492</td>\n",
       "      <td>1.879534</td>\n",
       "      <td>0.275766</td>\n",
       "      <td>...</td>\n",
       "      <td>0.846088</td>\n",
       "      <td>0.795810</td>\n",
       "      <td>0.814038</td>\n",
       "      <td>0.927734</td>\n",
       "      <td>0.156098</td>\n",
       "      <td>0.820807</td>\n",
       "      <td>3.514487</td>\n",
       "      <td>0.488093</td>\n",
       "      <td>-87.177852</td>\n",
       "      <td>-48.307173</td>\n",
       "    </tr>\n",
       "    <tr>\n",
       "      <th>102</th>\n",
       "      <td>0.748444</td>\n",
       "      <td>1.951926</td>\n",
       "      <td>0.974896</td>\n",
       "      <td>1.422973</td>\n",
       "      <td>1.676323</td>\n",
       "      <td>1.177223</td>\n",
       "      <td>1.213032</td>\n",
       "      <td>0.660028</td>\n",
       "      <td>0.551097</td>\n",
       "      <td>1.726432</td>\n",
       "      <td>...</td>\n",
       "      <td>0.969417</td>\n",
       "      <td>0.694087</td>\n",
       "      <td>0.271058</td>\n",
       "      <td>0.474265</td>\n",
       "      <td>0.403051</td>\n",
       "      <td>0.829312</td>\n",
       "      <td>2.671773</td>\n",
       "      <td>0.154932</td>\n",
       "      <td>-129.178521</td>\n",
       "      <td>-0.273681</td>\n",
       "    </tr>\n",
       "    <tr>\n",
       "      <th>51</th>\n",
       "      <td>1.241279</td>\n",
       "      <td>1.458861</td>\n",
       "      <td>1.602305</td>\n",
       "      <td>1.272903</td>\n",
       "      <td>0.436380</td>\n",
       "      <td>0.827199</td>\n",
       "      <td>0.186876</td>\n",
       "      <td>0.207720</td>\n",
       "      <td>0.784321</td>\n",
       "      <td>0.821709</td>\n",
       "      <td>...</td>\n",
       "      <td>1.788867</td>\n",
       "      <td>0.203190</td>\n",
       "      <td>0.073174</td>\n",
       "      <td>0.841337</td>\n",
       "      <td>0.886530</td>\n",
       "      <td>0.256446</td>\n",
       "      <td>2.260677</td>\n",
       "      <td>-0.349211</td>\n",
       "      <td>-119.332102</td>\n",
       "      <td>-36.418155</td>\n",
       "    </tr>\n",
       "    <tr>\n",
       "      <th>68</th>\n",
       "      <td>0.892024</td>\n",
       "      <td>0.971329</td>\n",
       "      <td>0.300293</td>\n",
       "      <td>1.286609</td>\n",
       "      <td>1.902622</td>\n",
       "      <td>0.526788</td>\n",
       "      <td>0.558745</td>\n",
       "      <td>1.841416</td>\n",
       "      <td>1.102335</td>\n",
       "      <td>0.607943</td>\n",
       "      <td>...</td>\n",
       "      <td>0.749500</td>\n",
       "      <td>0.101275</td>\n",
       "      <td>0.039624</td>\n",
       "      <td>0.998457</td>\n",
       "      <td>0.662826</td>\n",
       "      <td>0.038491</td>\n",
       "      <td>1.840672</td>\n",
       "      <td>0.840414</td>\n",
       "      <td>-70.286568</td>\n",
       "      <td>-40.474080</td>\n",
       "    </tr>\n",
       "    <tr>\n",
       "      <th>39</th>\n",
       "      <td>0.812359</td>\n",
       "      <td>0.257768</td>\n",
       "      <td>0.765333</td>\n",
       "      <td>1.256148</td>\n",
       "      <td>0.687768</td>\n",
       "      <td>1.447133</td>\n",
       "      <td>0.363195</td>\n",
       "      <td>1.289038</td>\n",
       "      <td>0.976674</td>\n",
       "      <td>1.031237</td>\n",
       "      <td>...</td>\n",
       "      <td>1.051050</td>\n",
       "      <td>0.794988</td>\n",
       "      <td>0.402415</td>\n",
       "      <td>0.052447</td>\n",
       "      <td>0.527398</td>\n",
       "      <td>0.808770</td>\n",
       "      <td>2.586017</td>\n",
       "      <td>-0.401226</td>\n",
       "      <td>-55.644579</td>\n",
       "      <td>-20.598729</td>\n",
       "    </tr>\n",
       "  </tbody>\n",
       "</table>\n",
       "<p>10 rows × 39 columns</p>\n",
       "</div>"
      ],
      "text/plain": [
       "           x1        y1        z1        x2        y2        z2        x3  \\\n",
       "56   1.371850  1.956442  0.838505  0.855238  1.927284  1.203376  1.080907   \n",
       "82   1.598116  0.211631  0.346318  1.839197  1.138368  1.383090  1.649057   \n",
       "101  0.979837  1.631199  1.636299  0.682763  1.529578  0.643341  1.791001   \n",
       "4    1.438282  1.561723  0.524540  0.784471  1.471769  1.334637  1.943356   \n",
       "26   0.391476  0.127394  0.239465  1.976987  1.961308  1.224274  0.527980   \n",
       "96   0.683124  1.819606  1.392288  1.060372  0.826310  1.049760  0.035376   \n",
       "102  0.748444  1.951926  0.974896  1.422973  1.676323  1.177223  1.213032   \n",
       "51   1.241279  1.458861  1.602305  1.272903  0.436380  0.827199  0.186876   \n",
       "68   0.892024  0.971329  0.300293  1.286609  1.902622  0.526788  0.558745   \n",
       "39   0.812359  0.257768  0.765333  1.256148  0.687768  1.447133  0.363195   \n",
       "\n",
       "           y3        z3        x4  ...       z10        m1        m2  \\\n",
       "56   1.940793  1.471447  1.922335  ...  0.462054  0.447247  0.453794   \n",
       "82   0.417886  0.689226  1.049812  ...  1.716419  0.954973  0.965961   \n",
       "101  0.079554  0.094649  1.787342  ...  1.768057  0.549867  0.437954   \n",
       "4    1.983835  1.011546  0.869539  ...  0.429976  0.282354  0.775516   \n",
       "26   0.565476  1.099089  1.750463  ...  1.985790  0.414693  0.217899   \n",
       "96   1.118492  1.879534  0.275766  ...  0.846088  0.795810  0.814038   \n",
       "102  0.660028  0.551097  1.726432  ...  0.969417  0.694087  0.271058   \n",
       "51   0.207720  0.784321  0.821709  ...  1.788867  0.203190  0.073174   \n",
       "68   1.841416  1.102335  0.607943  ...  0.749500  0.101275  0.039624   \n",
       "39   1.289038  0.976674  1.031237  ...  1.051050  0.794988  0.402415   \n",
       "\n",
       "           m3        m4        m5      mtot     fermi        band      toten  \n",
       "56   0.069828  0.126752  0.212193  1.309814  0.466977 -115.267038 -27.937542  \n",
       "82   0.208927  0.492311  0.784864  3.407036  0.447093  -91.762150 -18.172861  \n",
       "101  0.356820  0.544860  0.655191  2.544693  0.695636 -120.604812  -1.807440  \n",
       "4    0.499140  0.865310  0.509904  2.932224  0.093601 -139.861145  -1.287547  \n",
       "26   0.854972  0.782541  0.086332  2.356437  0.004324  -62.278363 -39.192820  \n",
       "96   0.927734  0.156098  0.820807  3.514487  0.488093  -87.177852 -48.307173  \n",
       "102  0.474265  0.403051  0.829312  2.671773  0.154932 -129.178521  -0.273681  \n",
       "51   0.841337  0.886530  0.256446  2.260677 -0.349211 -119.332102 -36.418155  \n",
       "68   0.998457  0.662826  0.038491  1.840672  0.840414  -70.286568 -40.474080  \n",
       "39   0.052447  0.527398  0.808770  2.586017 -0.401226  -55.644579 -20.598729  \n",
       "\n",
       "[10 rows x 39 columns]"
      ]
     },
     "execution_count": 280,
     "metadata": {},
     "output_type": "execute_result"
    }
   ],
   "source": [
    "X_train.head(n=10)"
   ]
  },
  {
   "cell_type": "markdown",
   "metadata": {},
   "source": [
    "# Parameter Tunning and Training\n",
    "\n",
    "Useful notebook references:\n",
    "- https://www.kaggle.com/waltermaffy/fruit-classification-pca-svm-knn-decision-tree\n",
    "- https://www.kaggle.com/tariqmhmd5/pima-india-diabetes-prediction-with-6-algorithms/data\n",
    "- https://www.kaggle.com/lbronchal/sentiment-analysis-with-svm\n",
    "- https://www.kaggle.com/pierra/credit-card-dataset-svm-classification"
   ]
  },
  {
   "cell_type": "code",
   "execution_count": 285,
   "metadata": {},
   "outputs": [
    {
     "name": "stdout",
     "output_type": "stream",
     "text": [
      "{'kernel': 'linear', 'C': 1}\n"
     ]
    }
   ],
   "source": [
    "grid_params = [{'kernel': ['rbf'], 'gamma': [1e-3, 1e-4],\n",
    "                     'C': [1, 10, 100, 1000]},\n",
    "                    {'kernel': ['linear'], 'C': [1, 10, 100, 1000]}]\n",
    "cv = StratifiedShuffleSplit(n_splits=5, test_size=0.2, random_state=42)\n",
    "clf = GridSearchCV(SVC(), grid_params, cv=cv)\n",
    "clf.fit(X_train, y_train)\n",
    "\n",
    "print clf.best_params_"
   ]
  },
  {
   "cell_type": "code",
   "execution_count": 286,
   "metadata": {
    "scrolled": true
   },
   "outputs": [
    {
     "name": "stdout",
     "output_type": "stream",
     "text": [
      "0.515625\n"
     ]
    }
   ],
   "source": [
    "print metrics.accuracy_score(y_pred, y_test)"
   ]
  },
  {
   "cell_type": "markdown",
   "metadata": {},
   "source": [
    "# Model Evaluaiton\n",
    "\n",
    "Useful references:\n",
    "- https://heartbeat.fritz.ai/introduction-to-machine-learning-model-evaluation-fa859e1b2d7f\n",
    "- https://machinelearningmastery.com/roc-curves-and-precision-recall-curves-for-classification-in-python/\n",
    "- https://towardsdatascience.com/understanding-auc-roc-curve-68b2303cc9c5\n",
    "- https://towardsdatascience.com/beyond-accuracy-precision-and-recall-3da06bea9f6c"
   ]
  },
  {
   "cell_type": "code",
   "execution_count": 287,
   "metadata": {},
   "outputs": [
    {
     "name": "stdout",
     "output_type": "stream",
     "text": [
      "[[16 16]\n",
      " [15 17]]\n",
      "              precision    recall  f1-score   support\n",
      "\n",
      "           0       0.52      0.50      0.51        32\n",
      "           1       0.52      0.53      0.52        32\n",
      "\n",
      "   micro avg       0.52      0.52      0.52        64\n",
      "   macro avg       0.52      0.52      0.52        64\n",
      "weighted avg       0.52      0.52      0.52        64\n",
      "\n"
     ]
    }
   ],
   "source": [
    "print confusion_matrix(y_test, y_pred)\n",
    "print classification_report(y_test, y_pred)"
   ]
  },
  {
   "cell_type": "code",
   "execution_count": 288,
   "metadata": {},
   "outputs": [
    {
     "name": "stdout",
     "output_type": "stream",
     "text": [
      "0.515625\n"
     ]
    },
    {
     "data": {
      "image/png": "[encoded data removed]",
      "text/plain": [
       "<Figure size 432x288 with 1 Axes>"
      ]
     },
     "metadata": {
      "needs_background": "light"
     },
     "output_type": "display_data"
    }
   ],
   "source": [
    "fpr, tpr, _ = roc_curve(y_test, y_pred)\n",
    "roc_auc = auc(fpr, tpr)\n",
    "\n",
    "print roc_auc\n",
    "\n",
    "plt.figure()\n",
    "plt.plot(fpr, tpr, 'ro-', label='SVM = %f' %roc_auc)\n",
    "plt.plot([0,1], [0,1], 'k--')\n",
    "plt.xlim([0.0, 1.0])\n",
    "plt.ylim([0.0, 1.05])\n",
    "plt.xlabel('False positive rate')\n",
    "plt.ylabel('True positive rate')\n",
    "plt.title('ROC curve')\n",
    "plt.legend(loc='lower right')\n",
    "plt.show()"
   ]
  },
  {
   "cell_type": "code",
   "execution_count": null,
   "metadata": {},
   "outputs": [],
   "source": []
  }
 ],
 "metadata": {
  "kernelspec": {
   "display_name": "Python 2",
   "language": "python",
   "name": "python2"
  },
  "language_info": {
   "codemirror_mode": {
    "name": "ipython",
    "version": 2
   },
   "file_extension": ".py",
   "mimetype": "text/x-python",
   "name": "python",
   "nbconvert_exporter": "python",
   "pygments_lexer": "ipython2",
   "version": "2.7.17"
  }
 },
 "nbformat": 4,
 "nbformat_minor": 2
}
