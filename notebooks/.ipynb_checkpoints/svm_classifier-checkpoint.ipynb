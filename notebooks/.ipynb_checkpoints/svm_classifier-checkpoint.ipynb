{
 "cells": [
  {
   "cell_type": "code",
   "execution_count": 1,
   "metadata": {},
   "outputs": [],
   "source": [
    "# Magnetic moment classifier using SVM\n",
    "# https://arxiv.org/abs/1806.07989"
   ]
  },
  {
   "cell_type": "code",
   "execution_count": 2,
   "metadata": {},
   "outputs": [],
   "source": [
    "import warnings\n",
    "warnings.filterwarnings('ignore')"
   ]
  },
  {
   "cell_type": "code",
   "execution_count": 3,
   "metadata": {},
   "outputs": [],
   "source": [
    "import itertools\n",
    "import os\n",
    "\n",
    "import pandas as pd\n",
    "import numpy as np\n",
    "\n",
    "from sklearn.model_selection import GridSearchCV, KFold\n",
    "from sklearn.feature_selection import RFE\n",
    "from sklearn.preprocessing import StandardScaler, Normalizer\n",
    "from sklearn.decomposition import PCA\n",
    "from sklearn.pipeline import Pipeline\n",
    "from sklearn.metrics import accuracy_score, f1_score, precision_score, recall_score, \\\n",
    "                            classification_report, confusion_matrix\n",
    "from sklearn.svm import SVC\n",
    "\n",
    "import seaborn as sns\n",
    "import matplotlib.pyplot as plt\n",
    "import matplotlib.gridspec as gridspec\n",
    "from mlxtend.plotting import plot_decision_regions\n",
    "\n",
    "from tqdm.notebook import tqdm"
   ]
  },
  {
   "cell_type": "code",
   "execution_count": 4,
   "metadata": {},
   "outputs": [],
   "source": [
    "normalizer = Normalizer()\n",
    "\n",
    "df_train = pd.read_csv('../datasets/datatrain.csv')\n",
    "df_test = pd.read_csv('../datasets/datatest.csv')\n",
    "\n",
    "X_train = df_train.drop(['a', 'b', 'x', 'class'], axis=1)\n",
    "X_train_norm = normalizer.fit_transform(X_train)\n",
    "y_train = df_train['class'].values\n",
    "\n",
    "X_test = df_test.drop(['a', 'b', 'x', 'class'], axis=1)\n",
    "X_test_norm = normalizer.fit_transform(X_test)\n",
    "y_test = df_test['class'].values"
   ]
  },
  {
   "cell_type": "code",
   "execution_count": 5,
   "metadata": {},
   "outputs": [
    {
     "data": {
      "image/png": "[encoded data removed]",
      "text/plain": [
       "<Figure size 432x288 with 4 Axes>"
      ]
     },
     "metadata": {
      "needs_background": "light"
     },
     "output_type": "display_data"
    }
   ],
   "source": [
    "piv_Te = pd.pivot_table(df_train.query('x == \"Te6\"'), values=\"mtot\", index=[\"a\"], columns=[\"b\"], fill_value=0)\n",
    "piv_Se = pd.pivot_table(df_train.query('x == \"Se6\"'), values=\"mtot\", index=[\"a\"], columns=[\"b\"], fill_value=0)\n",
    "piv_S = pd.pivot_table(df_test.query('x == \"S6\"'), values=\"mtot\", index=[\"a\"], columns=[\"b\"], fill_value=0)\n",
    "\n",
    "fig, ax = plt.subplots(1, 3)\n",
    "\n",
    "im_Te = ax[0].imshow(piv_Te, cmap=\"Blues\")\n",
    "im_Se = ax[1].imshow(piv_Se, cmap=\"Blues\")\n",
    "im_S = ax[2].imshow(piv_S, cmap=\"Blues\")\n",
    "\n",
    "cax = fig.add_axes([ax[2].get_position().x1 + 1.13,\n",
    "                    ax[2].get_position().y0,\n",
    "                    0.02,\n",
    "                    ax[2].get_position().height])\n",
    "\n",
    "fig.colorbar(im_S, ax=ax[2], cax=cax)\n",
    "\n",
    "ax[0].set_title('Te6')\n",
    "ax[0].set_xticks(range(len(piv_Te.columns)))\n",
    "ax[0].set_yticks(range(len(piv_Te.index)))\n",
    "ax[0].set_xticklabels(piv_Te.columns, rotation=90)\n",
    "ax[0].set_yticklabels(piv_Te.index)\n",
    "\n",
    "ax[1].set_title('Se6')\n",
    "ax[1].set_xticks(range(len(piv_Se.columns)))\n",
    "ax[1].set_yticks([])\n",
    "ax[1].set_xticklabels(piv_Se.columns, rotation=90)\n",
    "\n",
    "ax[2].set_title('S6')\n",
    "ax[2].set_xticks(range(len(piv_S.columns)))\n",
    "ax[2].set_yticks([])\n",
    "ax[2].set_xticklabels(piv_S.columns, rotation=90)\n",
    "\n",
    "plt.tight_layout()\n",
    "plt.subplots_adjust(left=1, right=2)\n",
    "plt.show()"
   ]
  },
  {
   "cell_type": "code",
   "execution_count": 61,
   "metadata": {},
   "outputs": [],
   "source": [
    "kernel = ['linear', 'rbf', 'poly']\n",
    "\n",
    "param_grid = {\n",
    "    'kernel': kernel,\n",
    "    'C': [0.1, 1, 10, 100, 1000],\n",
    "    'gamma': [0.1, 0.01, 0.001, 0.0001, 0.00001]\n",
    "}"
   ]
  },
  {
   "cell_type": "code",
   "execution_count": 62,
   "metadata": {},
   "outputs": [
    {
     "name": "stdout",
     "output_type": "stream",
     "text": [
      "Best score: 0.9333333333333333\n",
      "Best params: {'C': 1000, 'gamma': 0.1, 'kernel': 'linear'}\n",
      "SVM accuracy with best params: 0.9333333333333333\n",
      "Actual test label:    [1 1 1 1 1 1 1 1 1 1 1 1 0 0 0 0 0 1 0 0 0 0 0 0 0 0 0 0 0 0]\n",
      "Predicted test label: [1 1 1 1 1 1 1 1 1 1 1 1 0 0 1 0 1 1 0 0 0 0 0 0 0 0 0 0 0 0]\n",
      "\n",
      "[[15  2]\n",
      " [ 0 13]] \n",
      "\n",
      "Precision: 0.8666666666666667\n",
      "Recall: 1.0\n",
      "F Score: 0.9285714285714286\n"
     ]
    }
   ],
   "source": [
    "grid1 = GridSearchCV(estimator=SVC(), param_grid=param_grid, cv=5, refit=True)\n",
    "grid1.fit(X_train_norm, y_train)\n",
    "\n",
    "y_pred1 = grid1.predict(X_test_norm)\n",
    "\n",
    "print('Best score: {}'.format(grid1.score(X_test_norm, y_test)))\n",
    "print('Best params: {}'.format(grid1.best_params_))\n",
    "\n",
    "print('SVM accuracy with best params: {}'.format(accuracy_score(y_pred1, y_test)))\n",
    "print('Actual test label:    {}'.format(y_test))\n",
    "print('Predicted test label: {}\\n'.format(y_pred1))\n",
    "\n",
    "print(confusion_matrix(y_test, y_pred1), '\\n')\n",
    "\n",
    "print('Precision: {}'.format(precision_score(y_test, y_pred1)))\n",
    "print('Recall: {}'.format(recall_score(y_test, y_pred1)))\n",
    "print('F Score: {}'.format(f1_score(y_test, y_pred1)))"
   ]
  },
  {
   "cell_type": "code",
   "execution_count": 63,
   "metadata": {},
   "outputs": [
    {
     "data": {
      "text/plain": [
       "<matplotlib.axes._subplots.AxesSubplot at 0x1162b7a10>"
      ]
     },
     "execution_count": 63,
     "metadata": {},
     "output_type": "execute_result"
    },
    {
     "data": {
      "image/png": "[encoded data removed]",
      "text/plain": [
       "<Figure size 360x360 with 2 Axes>"
      ]
     },
     "metadata": {
      "needs_background": "light"
     },
     "output_type": "display_data"
    }
   ],
   "source": [
    "# selected = ['m1', 'm2', 'm3', 'mtot', 'n_el', 'tot_en', 'z3', 'z5', 'z6', 'z7']\n",
    "# selected = ['m1', 'm2', 'm3', 'mtot', 'z3', 'z5', 'z6', 'z7']\n",
    "selected = ['m1', 'm2', 'm3', 'mtot']\n",
    "\n",
    "plt.figure(figsize=(5, 5))\n",
    "df_corr = pd.concat([pd.DataFrame(X_train, columns=selected), df_train['class']], axis=1)\n",
    "sns.heatmap(df_corr.corr(), annot=False, cmap='RdBu')"
   ]
  },
  {
   "cell_type": "code",
   "execution_count": 64,
   "metadata": {},
   "outputs": [],
   "source": [
    "X_train2 = df_train[selected]\n",
    "X_train2_norm = normalizer.fit_transform(X_train2)\n",
    "\n",
    "X_test2 = df_test[selected]\n",
    "X_test2_norm = normalizer.fit_transform(X_test2)"
   ]
  },
  {
   "cell_type": "code",
   "execution_count": 65,
   "metadata": {
    "scrolled": true
   },
   "outputs": [
    {
     "name": "stdout",
     "output_type": "stream",
     "text": [
      "Best score: 0.8333333333333334\n",
      "Best params: {'C': 100, 'gamma': 0.1, 'kernel': 'linear'}\n",
      "SVM Accuracy with best params: 0.8333333333333334\n",
      "Actual test label:    [1 1 1 1 1 1 1 1 1 1 1 1 0 0 0 0 0 1 0 0 0 0 0 0 0 0 0 0 0 0]\n",
      "Predicted test label: [1 1 1 1 1 1 1 1 1 1 1 1 1 1 1 0 1 0 0 0 0 0 0 0 0 0 0 0 0 0]\n",
      "\n",
      "[[13  4]\n",
      " [ 1 12]] \n",
      "\n",
      "Precision: 0.75\n",
      "Recall: 0.9230769230769231\n",
      "F Score: 0.8275862068965517\n"
     ]
    }
   ],
   "source": [
    "grid2 = GridSearchCV(estimator=SVC(), param_grid=param_grid, cv=5, refit=True)\n",
    "grid2.fit(X_train2_norm, y_train)\n",
    "\n",
    "y_pred2 = grid2.predict(X_test2_norm)\n",
    "\n",
    "print('Best score: {}'.format(grid2.score(X_test2_norm, y_test)))\n",
    "print('Best params: {}'.format(grid2.best_params_))\n",
    "\n",
    "print('SVM Accuracy with best params: {}'.format(accuracy_score(y_pred2, y_test)))\n",
    "print('Actual test label:    {}'.format(y_test))\n",
    "print('Predicted test label: {}\\n'.format(y_pred2))\n",
    "\n",
    "print(confusion_matrix(y_test, y_pred2), '\\n')\n",
    "\n",
    "print('Precision: {}'.format(precision_score(y_test, y_pred2)))\n",
    "print('Recall: {}'.format(recall_score(y_test, y_pred2)))\n",
    "print('F Score: {}'.format(f1_score(y_test, y_pred2)))"
   ]
  },
  {
   "cell_type": "code",
   "execution_count": 66,
   "metadata": {},
   "outputs": [
    {
     "name": "stdout",
     "output_type": "stream",
     "text": [
      "PCA with all features variance ratio:      [0.98037158 0.0137362 ]\n",
      "PCA with selected features variance ratio: [0.98707816 0.01170344]\n"
     ]
    }
   ],
   "source": [
    "pca = PCA(n_components=2)\n",
    "pca2 = PCA(n_components=2)\n",
    "\n",
    "# PCA with all features\n",
    "X_transformed = pca.fit_transform(X_train)\n",
    "X_test_transformed = pca.transform(X_test)\n",
    "columns = ['Principal Component 1', 'Principal Component 2']\n",
    "\n",
    "df_pca = pd.DataFrame(data=X_transformed, columns=columns)\n",
    "df_pca = pd.concat([df_pca['Principal Component 1'], df_pca['Principal Component 2'], df_train['class']], axis = 1)\n",
    "\n",
    "# PCA with selected features\n",
    "X_transformed2 = pca2.fit_transform(X_train2)\n",
    "X_test_transformed2 = pca2.transform(X_test2)\n",
    "columns = ['Principal Component 1', 'Principal Component 2']\n",
    "\n",
    "df_pca2 = pd.DataFrame(data=X_transformed2, columns=columns)\n",
    "df_pca2 = pd.concat([df_pca2['Principal Component 1'], df_pca2['Principal Component 2'], df_train['class']], axis=1)\n",
    "\n",
    "# Variance ratio\n",
    "print('PCA with all features variance ratio:      {}'.format(pca.explained_variance_ratio_))\n",
    "print('PCA with selected features variance ratio: {}'.format(pca2.explained_variance_ratio_))"
   ]
  },
  {
   "cell_type": "code",
   "execution_count": 67,
   "metadata": {
    "scrolled": false
   },
   "outputs": [
    {
     "data": {
      "image/png": "[encoded data removed]",
      "text/plain": [
       "<Figure size 432x288 with 2 Axes>"
      ]
     },
     "metadata": {
      "needs_background": "light"
     },
     "output_type": "display_data"
    }
   ],
   "source": [
    "fig, ax = plt.subplots(1, 2)\n",
    "sns.scatterplot(data=df_pca, x='Principal Component 1', y='Principal Component 2', hue='class', ax=ax[0])\n",
    "sns.scatterplot(data=df_pca2, x='Principal Component 1', y='Principal Component 2', hue='class', ax=ax[1])\n",
    "plt.subplots_adjust(left=2, right=4)\n",
    "fig.show()"
   ]
  },
  {
   "cell_type": "code",
   "execution_count": 68,
   "metadata": {},
   "outputs": [],
   "source": [
    "pipe = [('pca', PCA()), ('classifier', SVC())]\n",
    "param_grid_pca = {\n",
    "    'pca__n_components': [2],\n",
    "    'classifier__kernel': kernel,\n",
    "    'classifier__C': [0.1, 1, 10, 100, 1000],\n",
    "    'classifier__gamma': [0.1, 0.01, 0.001, 0.0001, 0.00001]\n",
    "}\n",
    "\n",
    "pipeline = Pipeline(pipe)"
   ]
  },
  {
   "cell_type": "code",
   "execution_count": 69,
   "metadata": {
    "scrolled": false
   },
   "outputs": [
    {
     "name": "stdout",
     "output_type": "stream",
     "text": [
      "Best score: 0.9333333333333333\n",
      "Best params: {'classifier__C': 0.1, 'classifier__gamma': 0.1, 'classifier__kernel': 'linear', 'pca__n_components': 2}\n",
      "SVM Accuracy with best params: 0.9333333333333333\n",
      "Actual test label:    [1 1 1 1 1 1 1 1 1 1 1 1 0 0 0 0 0 1 0 0 0 0 0 0 0 0 0 0 0 0]\n",
      "Predicted test label: [1 1 1 1 1 1 1 1 1 1 1 1 0 0 1 0 1 1 0 0 0 0 0 0 0 0 0 0 0 0]\n",
      "\n",
      "[[15  2]\n",
      " [ 0 13]] \n",
      "\n",
      "Precision: 0.8666666666666667\n",
      "Recall: 1.0\n",
      "F Score: 0.9285714285714286\n"
     ]
    },
    {
     "data": {
      "image/png": "[encoded data removed]",
      "text/plain": [
       "<Figure size 432x288 with 1 Axes>"
      ]
     },
     "metadata": {
      "needs_background": "light"
     },
     "output_type": "display_data"
    }
   ],
   "source": [
    "grid3 = GridSearchCV(pipeline, param_grid=param_grid_pca, cv=5)\n",
    "grid3.fit(X_transformed, y_train)\n",
    "\n",
    "print('Best score: {}'.format(grid3.score(X_test_transformed, y_test)))\n",
    "print('Best params: {}'.format(grid3.best_params_))\n",
    "\n",
    "y_pred3 = grid3.predict(X_test_transformed)\n",
    "\n",
    "print('SVM Accuracy with best params: {}'.format(accuracy_score(y_pred3, y_test)))\n",
    "print('Actual test label:    {}'.format(y_test))\n",
    "print('Predicted test label: {}\\n'.format(y_pred3))\n",
    "\n",
    "print(confusion_matrix(y_test, y_pred3), '\\n')\n",
    "\n",
    "print('Precision: {}'.format(precision_score(y_test, y_pred3)))\n",
    "print('Recall: {}'.format(recall_score(y_test, y_pred3)))\n",
    "print('F Score: {}'.format(f1_score(y_test, y_pred3)))\n",
    "\n",
    "ax = plot_decision_regions(X_transformed, y_train, \n",
    "                      clf=grid3, legend=2, \n",
    "                      X_highlight=X_test_transformed, zoom_factor=0.1)\n",
    "\n",
    "handles, labels = ax.get_legend_handles_labels()\n",
    "ax.legend(handles, \n",
    "          ['Weak magnet', 'Strong magnet', 'Test data'], \n",
    "           framealpha=0.3, scatterpoints=1)\n",
    "\n",
    "plt.show()"
   ]
  },
  {
   "cell_type": "code",
   "execution_count": 71,
   "metadata": {},
   "outputs": [
    {
     "name": "stdout",
     "output_type": "stream",
     "text": [
      "Best score: 1.0\n",
      "Best params: {'classifier__C': 0.1, 'classifier__gamma': 0.1, 'classifier__kernel': 'linear', 'pca__n_components': 2}\n",
      "SVM Accuracy with best params: 1.0\n",
      "Actual test label:    [1 1 1 1 1 1 1 1 1 1 1 1 0 0 0 0 0 1 0 0 0 0 0 0 0 0 0 0 0 0]\n",
      "Predicted test label: [1 1 1 1 1 1 1 1 1 1 1 1 0 0 0 0 0 1 0 0 0 0 0 0 0 0 0 0 0 0]\n",
      "\n",
      "[[17  0]\n",
      " [ 0 13]] \n",
      "\n",
      "Precision: 1.0\n",
      "Recall: 1.0\n",
      "F Score: 1.0\n"
     ]
    },
    {
     "data": {
      "image/png": "[encoded data removed]",
      "text/plain": [
       "<Figure size 432x288 with 1 Axes>"
      ]
     },
     "metadata": {
      "needs_background": "light"
     },
     "output_type": "display_data"
    }
   ],
   "source": [
    "grid4 = GridSearchCV(pipeline, param_grid=param_grid_pca, cv=5)\n",
    "grid4.fit(X_transformed2, y_train)\n",
    "\n",
    "print('Best score: {}'.format(grid4.score(X_test_transformed2, y_test)))\n",
    "print('Best params: {}'.format(grid4.best_params_))\n",
    "\n",
    "y_pred4 = grid4.predict(X_test_transformed2)\n",
    "\n",
    "print('SVM Accuracy with best params: {}'.format(accuracy_score(y_pred4, y_test)))\n",
    "print('Actual test label:    {}'.format(y_test))\n",
    "print('Predicted test label: {}\\n'.format(y_pred4))\n",
    "\n",
    "print(confusion_matrix(y_test, y_pred4), '\\n')\n",
    "\n",
    "print('Precision: {}'.format(precision_score(y_test, y_pred4)))\n",
    "print('Recall: {}'.format(recall_score(y_test, y_pred4)))\n",
    "print('F Score: {}'.format(f1_score(y_test, y_pred4)))\n",
    "\n",
    "ax = plot_decision_regions(X_transformed2, y_train, \n",
    "                      clf=grid4, legend=2, \n",
    "                      X_highlight=X_test_transformed2, zoom_factor=0.2)\n",
    "\n",
    "handles, labels = ax.get_legend_handles_labels()\n",
    "ax.legend(handles, \n",
    "          ['Weak magnet', 'Strong magnet', 'Test data'], \n",
    "           framealpha=0.3, scatterpoints=1)\n",
    "\n",
    "plt.show()"
   ]
  },
  {
   "cell_type": "code",
   "execution_count": null,
   "metadata": {},
   "outputs": [],
   "source": []
  }
 ],
 "metadata": {
  "kernelspec": {
   "display_name": "Python 3",
   "language": "python",
   "name": "python3"
  },
  "language_info": {
   "codemirror_mode": {
    "name": "ipython",
    "version": 3
   },
   "file_extension": ".py",
   "mimetype": "text/x-python",
   "name": "python",
   "nbconvert_exporter": "python",
   "pygments_lexer": "ipython3",
   "version": "3.7.5"
  }
 },
 "nbformat": 4,
 "nbformat_minor": 2
}
