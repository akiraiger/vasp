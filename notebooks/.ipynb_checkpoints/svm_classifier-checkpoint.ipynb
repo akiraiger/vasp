{
 "cells": [
  {
   "cell_type": "code",
   "execution_count": 1,
   "metadata": {},
   "outputs": [],
   "source": [
    "# Magnetic moment classifier using SVM\n",
    "# https://arxiv.org/abs/1806.07989"
   ]
  },
  {
   "cell_type": "code",
   "execution_count": 83,
   "metadata": {},
   "outputs": [],
   "source": [
    "import warnings\n",
    "warnings.filterwarnings('ignore')"
   ]
  },
  {
   "cell_type": "code",
   "execution_count": 84,
   "metadata": {},
   "outputs": [],
   "source": [
    "import itertools\n",
    "import os\n",
    "\n",
    "import pandas as pd\n",
    "import numpy as np\n",
    "\n",
    "from sklearn.model_selection import GridSearchCV, KFold\n",
    "from sklearn.preprocessing import StandardScaler\n",
    "from sklearn.decomposition import PCA\n",
    "from sklearn.pipeline import Pipeline\n",
    "from sklearn.metrics import accuracy_score, classification_report, confusion_matrix, roc_curve, auc\n",
    "from sklearn.svm import SVC\n",
    "\n",
    "import seaborn as sns\n",
    "import matplotlib.pyplot as plt\n",
    "from mlxtend.plotting import plot_decision_regions\n",
    "from tqdm.notebook import tqdm"
   ]
  },
  {
   "cell_type": "code",
   "execution_count": 85,
   "metadata": {},
   "outputs": [
    {
     "name": "stdout",
     "output_type": "stream",
     "text": [
      "['.DS_Store', 'datatrain.csv', 'datatest.csv', 'magneticmoment_Ef_data.csv']\n"
     ]
    }
   ],
   "source": [
    "print(os.listdir('../datasets'))"
   ]
  },
  {
   "cell_type": "code",
   "execution_count": 86,
   "metadata": {},
   "outputs": [
    {
     "data": {
      "text/html": [
       "<div>\n",
       "<style scoped>\n",
       "    .dataframe tbody tr th:only-of-type {\n",
       "        vertical-align: middle;\n",
       "    }\n",
       "\n",
       "    .dataframe tbody tr th {\n",
       "        vertical-align: top;\n",
       "    }\n",
       "\n",
       "    .dataframe thead th {\n",
       "        text-align: right;\n",
       "    }\n",
       "</style>\n",
       "<table border=\"1\" class=\"dataframe\">\n",
       "  <thead>\n",
       "    <tr style=\"text-align: right;\">\n",
       "      <th></th>\n",
       "      <th>x1</th>\n",
       "      <th>y1</th>\n",
       "      <th>z1</th>\n",
       "      <th>x2</th>\n",
       "      <th>y2</th>\n",
       "      <th>z2</th>\n",
       "      <th>x3</th>\n",
       "      <th>y3</th>\n",
       "      <th>z3</th>\n",
       "      <th>x4</th>\n",
       "      <th>...</th>\n",
       "      <th>m6</th>\n",
       "      <th>m7</th>\n",
       "      <th>m8</th>\n",
       "      <th>m9</th>\n",
       "      <th>m10</th>\n",
       "      <th>mtot</th>\n",
       "      <th>fermi</th>\n",
       "      <th>band</th>\n",
       "      <th>toten</th>\n",
       "      <th>nelectrons</th>\n",
       "    </tr>\n",
       "  </thead>\n",
       "  <tbody>\n",
       "    <tr>\n",
       "      <th>0</th>\n",
       "      <td>3.11426</td>\n",
       "      <td>1.79802</td>\n",
       "      <td>11.54446</td>\n",
       "      <td>6.22852</td>\n",
       "      <td>3.59604</td>\n",
       "      <td>11.54424</td>\n",
       "      <td>-0.0</td>\n",
       "      <td>-0.0</td>\n",
       "      <td>10.34873</td>\n",
       "      <td>-0.0</td>\n",
       "      <td>...</td>\n",
       "      <td>-0.000</td>\n",
       "      <td>-0.000</td>\n",
       "      <td>-0.000</td>\n",
       "      <td>-0.000</td>\n",
       "      <td>-0.000</td>\n",
       "      <td>0.000</td>\n",
       "      <td>-3.158349</td>\n",
       "      <td>-483.374457</td>\n",
       "      <td>-40.380609</td>\n",
       "      <td>62.0</td>\n",
       "    </tr>\n",
       "    <tr>\n",
       "      <th>1</th>\n",
       "      <td>3.38614</td>\n",
       "      <td>1.95499</td>\n",
       "      <td>11.00558</td>\n",
       "      <td>6.77228</td>\n",
       "      <td>3.90998</td>\n",
       "      <td>11.00853</td>\n",
       "      <td>0.0</td>\n",
       "      <td>-0.0</td>\n",
       "      <td>9.86708</td>\n",
       "      <td>0.0</td>\n",
       "      <td>...</td>\n",
       "      <td>-0.000</td>\n",
       "      <td>-0.000</td>\n",
       "      <td>-0.000</td>\n",
       "      <td>-0.000</td>\n",
       "      <td>-0.000</td>\n",
       "      <td>0.000</td>\n",
       "      <td>-1.873443</td>\n",
       "      <td>-379.251497</td>\n",
       "      <td>-35.261134</td>\n",
       "      <td>62.0</td>\n",
       "    </tr>\n",
       "    <tr>\n",
       "      <th>2</th>\n",
       "      <td>3.11492</td>\n",
       "      <td>1.79840</td>\n",
       "      <td>10.62429</td>\n",
       "      <td>6.22985</td>\n",
       "      <td>3.59680</td>\n",
       "      <td>10.62447</td>\n",
       "      <td>-0.0</td>\n",
       "      <td>0.0</td>\n",
       "      <td>9.51753</td>\n",
       "      <td>-0.0</td>\n",
       "      <td>...</td>\n",
       "      <td>0.044</td>\n",
       "      <td>0.061</td>\n",
       "      <td>0.015</td>\n",
       "      <td>0.010</td>\n",
       "      <td>0.013</td>\n",
       "      <td>0.547</td>\n",
       "      <td>-2.335318</td>\n",
       "      <td>-482.074122</td>\n",
       "      <td>-41.354746</td>\n",
       "      <td>63.0</td>\n",
       "    </tr>\n",
       "    <tr>\n",
       "      <th>3</th>\n",
       "      <td>3.39551</td>\n",
       "      <td>1.96040</td>\n",
       "      <td>10.40155</td>\n",
       "      <td>6.79103</td>\n",
       "      <td>3.92081</td>\n",
       "      <td>10.40574</td>\n",
       "      <td>-0.0</td>\n",
       "      <td>-0.0</td>\n",
       "      <td>9.32076</td>\n",
       "      <td>-0.0</td>\n",
       "      <td>...</td>\n",
       "      <td>0.034</td>\n",
       "      <td>0.040</td>\n",
       "      <td>0.005</td>\n",
       "      <td>0.011</td>\n",
       "      <td>0.004</td>\n",
       "      <td>0.524</td>\n",
       "      <td>-1.352459</td>\n",
       "      <td>-389.016012</td>\n",
       "      <td>-36.503814</td>\n",
       "      <td>63.0</td>\n",
       "    </tr>\n",
       "    <tr>\n",
       "      <th>4</th>\n",
       "      <td>3.08785</td>\n",
       "      <td>1.78277</td>\n",
       "      <td>10.83735</td>\n",
       "      <td>6.17572</td>\n",
       "      <td>3.56555</td>\n",
       "      <td>10.83811</td>\n",
       "      <td>-0.0</td>\n",
       "      <td>-0.0</td>\n",
       "      <td>9.72958</td>\n",
       "      <td>0.0</td>\n",
       "      <td>...</td>\n",
       "      <td>0.000</td>\n",
       "      <td>0.000</td>\n",
       "      <td>0.000</td>\n",
       "      <td>0.000</td>\n",
       "      <td>0.000</td>\n",
       "      <td>-0.000</td>\n",
       "      <td>-3.043384</td>\n",
       "      <td>-472.035630</td>\n",
       "      <td>-41.755620</td>\n",
       "      <td>62.0</td>\n",
       "    </tr>\n",
       "  </tbody>\n",
       "</table>\n",
       "<p>5 rows × 45 columns</p>\n",
       "</div>"
      ],
      "text/plain": [
       "        x1       y1        z1       x2       y2        z2   x3   y3        z3  \\\n",
       "0  3.11426  1.79802  11.54446  6.22852  3.59604  11.54424 -0.0 -0.0  10.34873   \n",
       "1  3.38614  1.95499  11.00558  6.77228  3.90998  11.00853  0.0 -0.0   9.86708   \n",
       "2  3.11492  1.79840  10.62429  6.22985  3.59680  10.62447 -0.0  0.0   9.51753   \n",
       "3  3.39551  1.96040  10.40155  6.79103  3.92081  10.40574 -0.0 -0.0   9.32076   \n",
       "4  3.08785  1.78277  10.83735  6.17572  3.56555  10.83811 -0.0 -0.0   9.72958   \n",
       "\n",
       "    x4  ...     m6     m7     m8     m9    m10   mtot     fermi        band  \\\n",
       "0 -0.0  ... -0.000 -0.000 -0.000 -0.000 -0.000  0.000 -3.158349 -483.374457   \n",
       "1  0.0  ... -0.000 -0.000 -0.000 -0.000 -0.000  0.000 -1.873443 -379.251497   \n",
       "2 -0.0  ...  0.044  0.061  0.015  0.010  0.013  0.547 -2.335318 -482.074122   \n",
       "3 -0.0  ...  0.034  0.040  0.005  0.011  0.004  0.524 -1.352459 -389.016012   \n",
       "4  0.0  ...  0.000  0.000  0.000  0.000  0.000 -0.000 -3.043384 -472.035630   \n",
       "\n",
       "       toten  nelectrons  \n",
       "0 -40.380609        62.0  \n",
       "1 -35.261134        62.0  \n",
       "2 -41.354746        63.0  \n",
       "3 -36.503814        63.0  \n",
       "4 -41.755620        62.0  \n",
       "\n",
       "[5 rows x 45 columns]"
      ]
     },
     "execution_count": 86,
     "metadata": {},
     "output_type": "execute_result"
    }
   ],
   "source": [
    "df_train = pd.read_csv('../datasets/datatrain.csv')\n",
    "df_test = pd.read_csv('../datasets/datatest.csv')\n",
    "\n",
    "X_train = df_train.drop(['structure', 'class'], axis=1)\n",
    "y_train = df_train['class'].values\n",
    "X_test = df_test.drop(['structure', 'class'], axis=1)\n",
    "y_test = df_test['class'].values\n",
    "\n",
    "X_train.head()"
   ]
  },
  {
   "cell_type": "code",
   "execution_count": 87,
   "metadata": {},
   "outputs": [],
   "source": [
    "pca = PCA(n_components=2)\n",
    "X_transformed = pca.fit_transform(X_train)\n",
    "columns = ['Principal Component 1', 'Principal Component 2']\n",
    "\n",
    "df_pca = pd.DataFrame(data=X_transformed, columns=columns)\n",
    "df_pca = pd.concat([df_principal['Principal Component 1'], df_principal['Principal Component 2'], df_train['class']], axis = 1)"
   ]
  },
  {
   "cell_type": "code",
   "execution_count": 88,
   "metadata": {},
   "outputs": [
    {
     "name": "stdout",
     "output_type": "stream",
     "text": [
      "[0.97681448 0.01741144]\n"
     ]
    },
    {
     "data": {
      "text/html": [
       "<div>\n",
       "<style scoped>\n",
       "    .dataframe tbody tr th:only-of-type {\n",
       "        vertical-align: middle;\n",
       "    }\n",
       "\n",
       "    .dataframe tbody tr th {\n",
       "        vertical-align: top;\n",
       "    }\n",
       "\n",
       "    .dataframe thead th {\n",
       "        text-align: right;\n",
       "    }\n",
       "</style>\n",
       "<table border=\"1\" class=\"dataframe\">\n",
       "  <thead>\n",
       "    <tr style=\"text-align: right;\">\n",
       "      <th></th>\n",
       "      <th>Principal Component 1</th>\n",
       "      <th>Principal Component 2</th>\n",
       "      <th>class</th>\n",
       "    </tr>\n",
       "  </thead>\n",
       "  <tbody>\n",
       "    <tr>\n",
       "      <th>0</th>\n",
       "      <td>-1.453696</td>\n",
       "      <td>-5.384596</td>\n",
       "      <td>0</td>\n",
       "    </tr>\n",
       "    <tr>\n",
       "      <th>1</th>\n",
       "      <td>0.671680</td>\n",
       "      <td>3.434251</td>\n",
       "      <td>0</td>\n",
       "    </tr>\n",
       "    <tr>\n",
       "      <th>2</th>\n",
       "      <td>-5.014113</td>\n",
       "      <td>-0.089663</td>\n",
       "      <td>0</td>\n",
       "    </tr>\n",
       "    <tr>\n",
       "      <th>3</th>\n",
       "      <td>-1.689769</td>\n",
       "      <td>6.160810</td>\n",
       "      <td>0</td>\n",
       "    </tr>\n",
       "    <tr>\n",
       "      <th>4</th>\n",
       "      <td>-4.150234</td>\n",
       "      <td>-1.884641</td>\n",
       "      <td>0</td>\n",
       "    </tr>\n",
       "  </tbody>\n",
       "</table>\n",
       "</div>"
      ],
      "text/plain": [
       "   Principal Component 1  Principal Component 2  class\n",
       "0              -1.453696              -5.384596      0\n",
       "1               0.671680               3.434251      0\n",
       "2              -5.014113              -0.089663      0\n",
       "3              -1.689769               6.160810      0\n",
       "4              -4.150234              -1.884641      0"
      ]
     },
     "execution_count": 88,
     "metadata": {},
     "output_type": "execute_result"
    }
   ],
   "source": [
    "print(pca.explained_variance_ratio_)\n",
    "df_pca.head()"
   ]
  },
  {
   "cell_type": "code",
   "execution_count": 89,
   "metadata": {},
   "outputs": [
    {
     "data": {
      "text/plain": [
       "<matplotlib.axes._subplots.AxesSubplot at 0x123273890>"
      ]
     },
     "execution_count": 89,
     "metadata": {},
     "output_type": "execute_result"
    },
    {
     "data": {
      "image/png": "[encoded data removed]",
      "text/plain": [
       "<Figure size 432x288 with 1 Axes>"
      ]
     },
     "metadata": {
      "needs_background": "light"
     },
     "output_type": "display_data"
    }
   ],
   "source": [
    "sns.scatterplot(data=df_pca, x='Principal Component 1', y='Principal Component 2', hue='class')"
   ]
  },
  {
   "cell_type": "code",
   "execution_count": 71,
   "metadata": {},
   "outputs": [],
   "source": [
    "pipe_steps = [('pca', PCA()), ('classifier', SVC())]\n",
    "param_grid = {\n",
    "    'pca__n_components': [2],\n",
    "    'classifier__kernel': ['rbf', 'linear'],\n",
    "    'classifier__C': [0.1, 0.5, 1, 10, 30, 40, 50, 70, 100, 500, 1000],\n",
    "    'classifier__gamma': [0.0001, 0.001, 0.005, 0.01, 0.05, 0.07, 0.1, 0.5, 1, 5, 10, 50]\n",
    "}\n",
    "\n",
    "pipeline = Pipeline(pipe_steps)"
   ]
  },
  {
   "cell_type": "code",
   "execution_count": 72,
   "metadata": {
    "scrolled": true
   },
   "outputs": [
    {
     "data": {
      "application/vnd.jupyter.widget-view+json": {
       "model_id": "fc886246a1894f21848f5e17b9076808",
       "version_major": 2,
       "version_minor": 0
      },
      "text/plain": [
       "HBox(children=(FloatProgress(value=0.0, max=4.0), HTML(value='')))"
      ]
     },
     "metadata": {},
     "output_type": "display_data"
    },
    {
     "name": "stdout",
     "output_type": "stream",
     "text": [
      "Score for 4 fold: 93.75\n",
      "{'classifier__C': 0.1, 'classifier__gamma': 0.0001, 'classifier__kernel': 'linear', 'pca__n_components': 2}\n",
      "\n",
      "Score for 5 fold: 93.75\n",
      "{'classifier__C': 0.1, 'classifier__gamma': 0.0001, 'classifier__kernel': 'linear', 'pca__n_components': 2}\n",
      "\n",
      "Score for 6 fold: 93.75\n",
      "{'classifier__C': 0.1, 'classifier__gamma': 0.0001, 'classifier__kernel': 'linear', 'pca__n_components': 2}\n",
      "\n",
      "Score for 7 fold: 93.75\n",
      "{'classifier__C': 0.1, 'classifier__gamma': 0.0001, 'classifier__kernel': 'linear', 'pca__n_components': 2}\n",
      "\n",
      "\n"
     ]
    }
   ],
   "source": [
    "test_transformed = pca.transform(X_test)\n",
    "\n",
    "for n in tqdm(range(4, 8)):\n",
    "    grid = GridSearchCV(pipeline, param_grid=param_grid, cv=KFold(n_splits=n))\n",
    "    grid.fit(X_transformed, y_train)\n",
    "    print('Score for {} fold: {}'.format(n, grid.score(test_transformed, y_test) * 100))\n",
    "    print(grid.best_params_)\n",
    "    print()"
   ]
  },
  {
   "cell_type": "code",
   "execution_count": 81,
   "metadata": {
    "scrolled": true
   },
   "outputs": [
    {
     "name": "stdout",
     "output_type": "stream",
     "text": [
      "SVM Accuracy with best params: 93.75\n",
      "Actual test label: [0 0 0 0 1 1 1 1 1 1 0 0 0 0 0 0]\n",
      "Predicted test label: [0 0 1 0 1 1 1 1 1 1 0 0 0 0 0 0]\n"
     ]
    }
   ],
   "source": [
    "clf = SVC(kernel=grid.best_params_['classifier__kernel'],\n",
    "          gamma=grid.best_params_['classifier__gamma'],\n",
    "          C=grid.best_params_['classifier__C'])\n",
    "clf.fit(X_transformed, y_train)\n",
    "y_pred = clf.predict(test_transformed)\n",
    "\n",
    "print('SVM Accuracy with best params: {}'.format(accuracy_score(y_pred, y_test) * 100))\n",
    "print('Actual test label: {}'.format(y_test))\n",
    "print('Predicted test label: {}'.format(y_pred))"
   ]
  },
  {
   "cell_type": "code",
   "execution_count": 82,
   "metadata": {},
   "outputs": [
    {
     "name": "stderr",
     "output_type": "stream",
     "text": [
      "/Users/fajar/materials/research/venv/lib/python3.7/site-packages/mlxtend/plotting/decision_regions.py:249: MatplotlibDeprecationWarning: Passing unsupported keyword arguments to axis() will raise a TypeError in 3.3.\n",
      "  ax.axis(xmin=xx.min(), xmax=xx.max(), y_min=yy.min(), y_max=yy.max())\n"
     ]
    },
    {
     "data": {
      "text/plain": [
       "<matplotlib.axes._subplots.AxesSubplot at 0x123d46790>"
      ]
     },
     "execution_count": 82,
     "metadata": {},
     "output_type": "execute_result"
    },
    {
     "data": {
      "image/png": "[encoded data removed]",
      "text/plain": [
       "<Figure size 432x288 with 1 Axes>"
      ]
     },
     "metadata": {
      "needs_background": "light"
     },
     "output_type": "display_data"
    }
   ],
   "source": [
    "plot_decision_regions(X_transformed, y_train, clf=clf, legend=2)"
   ]
  },
  {
   "cell_type": "code",
   "execution_count": 77,
   "metadata": {},
   "outputs": [],
   "source": [
    "def plot_confusion_matrix(cm, classes,\n",
    "                          title='Confusion matrix',\n",
    "                          cmap=plt.cm.Blues):\n",
    "    \n",
    "    plt.imshow(cm, interpolation='nearest', cmap=cmap)\n",
    "    plt.title(title)\n",
    "    plt.colorbar()\n",
    "    tick_marks = np.arange(len(classes))\n",
    "    plt.xticks(tick_marks, classes, rotation=45)\n",
    "    plt.yticks(tick_marks, classes)\n",
    "\n",
    "    fmt = 'd' \n",
    "    thresh = cm.max() / 2.\n",
    "    for i, j in itertools.product(range(cm.shape[0]), range(cm.shape[1])):\n",
    "        plt.text(j, i, format(cm[i, j], fmt),\n",
    "                 horizontalalignment=\"center\",\n",
    "                 color=\"white\" if cm[i, j] > thresh else \"black\")\n",
    "\n",
    "    plt.tight_layout()\n",
    "    plt.ylabel('Actual label')\n",
    "    plt.xlabel('Predicted label')"
   ]
  },
  {
   "cell_type": "code",
   "execution_count": 78,
   "metadata": {
    "scrolled": true
   },
   "outputs": [
    {
     "name": "stdout",
     "output_type": "stream",
     "text": [
      "[[9 1]\n",
      " [0 6]]\n",
      "              precision    recall  f1-score   support\n",
      "\n",
      "           0       1.00      0.90      0.95        10\n",
      "           1       0.86      1.00      0.92         6\n",
      "\n",
      "    accuracy                           0.94        16\n",
      "   macro avg       0.93      0.95      0.94        16\n",
      "weighted avg       0.95      0.94      0.94        16\n",
      "\n"
     ]
    }
   ],
   "source": [
    "print(confusion_matrix(y_test, y_pred))\n",
    "print(classification_report(y_test, y_pred))"
   ]
  },
  {
   "cell_type": "code",
   "execution_count": 79,
   "metadata": {},
   "outputs": [
    {
     "data": {
      "image/png": "[encoded data removed]",
      "text/plain": [
       "<Figure size 432x288 with 2 Axes>"
      ]
     },
     "metadata": {
      "needs_background": "light"
     },
     "output_type": "display_data"
    }
   ],
   "source": [
    "cm = confusion_matrix(y_test, y_pred)\n",
    "plot_confusion_matrix(cm, [0, 1])"
   ]
  },
  {
   "cell_type": "code",
   "execution_count": 80,
   "metadata": {},
   "outputs": [
    {
     "data": {
      "image/png": "[encoded data removed]",
      "text/plain": [
       "<Figure size 432x288 with 1 Axes>"
      ]
     },
     "metadata": {
      "needs_background": "light"
     },
     "output_type": "display_data"
    }
   ],
   "source": [
    "fpr, tpr, thresholds = roc_curve(y_test, y_pred)\n",
    "roc_auc = auc(fpr, tpr)\n",
    "\n",
    "plt.figure()\n",
    "plt.plot(fpr, tpr, 'ro-', label='ROC = %f' %roc_auc)\n",
    "plt.plot([0,1], [0,1], 'k--')\n",
    "plt.xlim([0.0, 1.0])\n",
    "plt.ylim([0.0, 1.05])\n",
    "plt.xlabel('False positive rate')\n",
    "plt.ylabel('True positive rate')\n",
    "plt.title('ROC curve')\n",
    "plt.legend(loc='lower right')\n",
    "plt.show()"
   ]
  },
  {
   "cell_type": "code",
   "execution_count": null,
   "metadata": {},
   "outputs": [],
   "source": []
  }
 ],
 "metadata": {
  "kernelspec": {
   "display_name": "Python 3",
   "language": "python",
   "name": "python3"
  },
  "language_info": {
   "codemirror_mode": {
    "name": "ipython",
    "version": 3
   },
   "file_extension": ".py",
   "mimetype": "text/x-python",
   "name": "python",
   "nbconvert_exporter": "python",
   "pygments_lexer": "ipython3",
   "version": "3.7.5"
  }
 },
 "nbformat": 4,
 "nbformat_minor": 2
}
