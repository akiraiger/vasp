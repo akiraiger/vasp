{
 "cells": [
  {
   "cell_type": "code",
   "execution_count": 1,
   "metadata": {},
   "outputs": [],
   "source": [
    "# Magnetic moment classifier using SVM\n",
    "# https://arxiv.org/abs/1806.07989"
   ]
  },
  {
   "cell_type": "markdown",
   "metadata": {},
   "source": [
    "# Import Libraries"
   ]
  },
  {
   "cell_type": "code",
   "execution_count": 2,
   "metadata": {},
   "outputs": [],
   "source": [
    "import warnings\n",
    "warnings.filterwarnings('ignore')"
   ]
  },
  {
   "cell_type": "code",
   "execution_count": 3,
   "metadata": {},
   "outputs": [],
   "source": [
    "import itertools\n",
    "import os\n",
    "\n",
    "import pandas as pd\n",
    "import numpy as np\n",
    "\n",
    "from sklearn.model_selection import GridSearchCV, KFold\n",
    "from sklearn.feature_selection import RFE\n",
    "from sklearn.preprocessing import StandardScaler\n",
    "from sklearn.decomposition import PCA\n",
    "from sklearn.pipeline import Pipeline\n",
    "from sklearn.metrics import accuracy_score, f1_score, precision_score, recall_score, \\\n",
    "                            classification_report, confusion_matrix, roc_curve, auc\n",
    "from sklearn.svm import SVC\n",
    "\n",
    "import seaborn as sns\n",
    "import matplotlib.pyplot as plt\n",
    "import matplotlib.gridspec as gridspec\n",
    "from mlxtend.plotting import plot_decision_regions\n",
    "\n",
    "from tqdm.notebook import tqdm"
   ]
  },
  {
   "cell_type": "markdown",
   "metadata": {},
   "source": [
    "# Load Datasets"
   ]
  },
  {
   "cell_type": "code",
   "execution_count": 4,
   "metadata": {},
   "outputs": [
    {
     "name": "stdout",
     "output_type": "stream",
     "text": [
      "['.DS_Store', 'datatrain.csv', 'datatest.csv']\n"
     ]
    }
   ],
   "source": [
    "print(os.listdir('../datasets'))"
   ]
  },
  {
   "cell_type": "code",
   "execution_count": 5,
   "metadata": {},
   "outputs": [],
   "source": [
    "df_train = pd.read_csv('../datasets/datatrain.csv')\n",
    "df_test = pd.read_csv('../datasets/datatest.csv')\n",
    "\n",
    "X_train = df_train.drop(['structure', 'class'], axis=1)\n",
    "y_train = df_train['class'].values\n",
    "\n",
    "X_test = df_test.drop(['structure', 'class'], axis=1)\n",
    "y_test = df_test['class'].values"
   ]
  },
  {
   "cell_type": "code",
   "execution_count": 6,
   "metadata": {},
   "outputs": [
    {
     "data": {
      "text/html": [
       "<div>\n",
       "<style scoped>\n",
       "    .dataframe tbody tr th:only-of-type {\n",
       "        vertical-align: middle;\n",
       "    }\n",
       "\n",
       "    .dataframe tbody tr th {\n",
       "        vertical-align: top;\n",
       "    }\n",
       "\n",
       "    .dataframe thead th {\n",
       "        text-align: right;\n",
       "    }\n",
       "</style>\n",
       "<table border=\"1\" class=\"dataframe\">\n",
       "  <thead>\n",
       "    <tr style=\"text-align: right;\">\n",
       "      <th></th>\n",
       "      <th>x1</th>\n",
       "      <th>y1</th>\n",
       "      <th>z1</th>\n",
       "      <th>x2</th>\n",
       "      <th>y2</th>\n",
       "      <th>z2</th>\n",
       "      <th>x3</th>\n",
       "      <th>y3</th>\n",
       "      <th>z3</th>\n",
       "      <th>x4</th>\n",
       "      <th>...</th>\n",
       "      <th>m6</th>\n",
       "      <th>m7</th>\n",
       "      <th>m8</th>\n",
       "      <th>m9</th>\n",
       "      <th>m10</th>\n",
       "      <th>mtot</th>\n",
       "      <th>fermi</th>\n",
       "      <th>band</th>\n",
       "      <th>toten</th>\n",
       "      <th>nelectrons</th>\n",
       "    </tr>\n",
       "  </thead>\n",
       "  <tbody>\n",
       "    <tr>\n",
       "      <th>0</th>\n",
       "      <td>3.11426</td>\n",
       "      <td>1.79802</td>\n",
       "      <td>11.54446</td>\n",
       "      <td>6.22852</td>\n",
       "      <td>3.59604</td>\n",
       "      <td>11.54424</td>\n",
       "      <td>-0.0</td>\n",
       "      <td>-0.0</td>\n",
       "      <td>10.34873</td>\n",
       "      <td>-0.0</td>\n",
       "      <td>...</td>\n",
       "      <td>-0.000</td>\n",
       "      <td>-0.000</td>\n",
       "      <td>-0.000</td>\n",
       "      <td>-0.000</td>\n",
       "      <td>-0.000</td>\n",
       "      <td>0.000</td>\n",
       "      <td>-3.158349</td>\n",
       "      <td>-483.374457</td>\n",
       "      <td>-40.380609</td>\n",
       "      <td>62.0</td>\n",
       "    </tr>\n",
       "    <tr>\n",
       "      <th>1</th>\n",
       "      <td>3.38614</td>\n",
       "      <td>1.95499</td>\n",
       "      <td>11.00558</td>\n",
       "      <td>6.77228</td>\n",
       "      <td>3.90998</td>\n",
       "      <td>11.00853</td>\n",
       "      <td>0.0</td>\n",
       "      <td>-0.0</td>\n",
       "      <td>9.86708</td>\n",
       "      <td>0.0</td>\n",
       "      <td>...</td>\n",
       "      <td>-0.000</td>\n",
       "      <td>-0.000</td>\n",
       "      <td>-0.000</td>\n",
       "      <td>-0.000</td>\n",
       "      <td>-0.000</td>\n",
       "      <td>0.000</td>\n",
       "      <td>-1.873443</td>\n",
       "      <td>-379.251497</td>\n",
       "      <td>-35.261134</td>\n",
       "      <td>62.0</td>\n",
       "    </tr>\n",
       "    <tr>\n",
       "      <th>2</th>\n",
       "      <td>3.11492</td>\n",
       "      <td>1.79840</td>\n",
       "      <td>10.62429</td>\n",
       "      <td>6.22985</td>\n",
       "      <td>3.59680</td>\n",
       "      <td>10.62447</td>\n",
       "      <td>-0.0</td>\n",
       "      <td>0.0</td>\n",
       "      <td>9.51753</td>\n",
       "      <td>-0.0</td>\n",
       "      <td>...</td>\n",
       "      <td>0.044</td>\n",
       "      <td>0.061</td>\n",
       "      <td>0.015</td>\n",
       "      <td>0.010</td>\n",
       "      <td>0.013</td>\n",
       "      <td>0.547</td>\n",
       "      <td>-2.335318</td>\n",
       "      <td>-482.074122</td>\n",
       "      <td>-41.354746</td>\n",
       "      <td>63.0</td>\n",
       "    </tr>\n",
       "    <tr>\n",
       "      <th>3</th>\n",
       "      <td>3.39551</td>\n",
       "      <td>1.96040</td>\n",
       "      <td>10.40155</td>\n",
       "      <td>6.79103</td>\n",
       "      <td>3.92081</td>\n",
       "      <td>10.40574</td>\n",
       "      <td>-0.0</td>\n",
       "      <td>-0.0</td>\n",
       "      <td>9.32076</td>\n",
       "      <td>-0.0</td>\n",
       "      <td>...</td>\n",
       "      <td>0.034</td>\n",
       "      <td>0.040</td>\n",
       "      <td>0.005</td>\n",
       "      <td>0.011</td>\n",
       "      <td>0.004</td>\n",
       "      <td>0.524</td>\n",
       "      <td>-1.352459</td>\n",
       "      <td>-389.016012</td>\n",
       "      <td>-36.503814</td>\n",
       "      <td>63.0</td>\n",
       "    </tr>\n",
       "    <tr>\n",
       "      <th>4</th>\n",
       "      <td>3.08785</td>\n",
       "      <td>1.78277</td>\n",
       "      <td>10.83735</td>\n",
       "      <td>6.17572</td>\n",
       "      <td>3.56555</td>\n",
       "      <td>10.83811</td>\n",
       "      <td>-0.0</td>\n",
       "      <td>-0.0</td>\n",
       "      <td>9.72958</td>\n",
       "      <td>0.0</td>\n",
       "      <td>...</td>\n",
       "      <td>0.000</td>\n",
       "      <td>0.000</td>\n",
       "      <td>0.000</td>\n",
       "      <td>0.000</td>\n",
       "      <td>0.000</td>\n",
       "      <td>-0.000</td>\n",
       "      <td>-3.043384</td>\n",
       "      <td>-472.035630</td>\n",
       "      <td>-41.755620</td>\n",
       "      <td>62.0</td>\n",
       "    </tr>\n",
       "  </tbody>\n",
       "</table>\n",
       "<p>5 rows × 45 columns</p>\n",
       "</div>"
      ],
      "text/plain": [
       "        x1       y1        z1       x2       y2        z2   x3   y3        z3  \\\n",
       "0  3.11426  1.79802  11.54446  6.22852  3.59604  11.54424 -0.0 -0.0  10.34873   \n",
       "1  3.38614  1.95499  11.00558  6.77228  3.90998  11.00853  0.0 -0.0   9.86708   \n",
       "2  3.11492  1.79840  10.62429  6.22985  3.59680  10.62447 -0.0  0.0   9.51753   \n",
       "3  3.39551  1.96040  10.40155  6.79103  3.92081  10.40574 -0.0 -0.0   9.32076   \n",
       "4  3.08785  1.78277  10.83735  6.17572  3.56555  10.83811 -0.0 -0.0   9.72958   \n",
       "\n",
       "    x4  ...     m6     m7     m8     m9    m10   mtot     fermi        band  \\\n",
       "0 -0.0  ... -0.000 -0.000 -0.000 -0.000 -0.000  0.000 -3.158349 -483.374457   \n",
       "1  0.0  ... -0.000 -0.000 -0.000 -0.000 -0.000  0.000 -1.873443 -379.251497   \n",
       "2 -0.0  ...  0.044  0.061  0.015  0.010  0.013  0.547 -2.335318 -482.074122   \n",
       "3 -0.0  ...  0.034  0.040  0.005  0.011  0.004  0.524 -1.352459 -389.016012   \n",
       "4  0.0  ...  0.000  0.000  0.000  0.000  0.000 -0.000 -3.043384 -472.035630   \n",
       "\n",
       "       toten  nelectrons  \n",
       "0 -40.380609        62.0  \n",
       "1 -35.261134        62.0  \n",
       "2 -41.354746        63.0  \n",
       "3 -36.503814        63.0  \n",
       "4 -41.755620        62.0  \n",
       "\n",
       "[5 rows x 45 columns]"
      ]
     },
     "execution_count": 6,
     "metadata": {},
     "output_type": "execute_result"
    }
   ],
   "source": [
    "X_train.head()"
   ]
  },
  {
   "cell_type": "markdown",
   "metadata": {},
   "source": [
    "# Helpers"
   ]
  },
  {
   "cell_type": "code",
   "execution_count": 7,
   "metadata": {},
   "outputs": [],
   "source": [
    "def plot_confusion_matrix(cm, classes):\n",
    "    plt.imshow(cm, interpolation='nearest', cmap=plt.cm.Blues)\n",
    "    plt.colorbar()\n",
    "    tick_marks = np.arange(len(classes))\n",
    "    plt.xticks(tick_marks, classes, rotation=45)\n",
    "    plt.yticks(tick_marks, classes)\n",
    "    fmt = 'd' \n",
    "    thresh = cm.max() / 2.\n",
    "    for i, j in itertools.product(range(cm.shape[0]), range(cm.shape[1])):\n",
    "        plt.text(j, i, format(cm[i, j], fmt),\n",
    "                 horizontalalignment=\"center\",\n",
    "                 color=\"white\" if cm[i, j] > thresh else \"black\")\n",
    "    plt.tight_layout()\n",
    "    plt.ylabel('Actual label')\n",
    "    plt.xlabel('Predicted label')"
   ]
  },
  {
   "cell_type": "code",
   "execution_count": 8,
   "metadata": {},
   "outputs": [],
   "source": [
    "kernel = ['poly']\n",
    "\n",
    "param_grid = {\n",
    "    'kernel': kernel,\n",
    "    'C': [0.1, 0.5, 1, 10, 30, 40, 50, 70, 100, 500, 1000],\n",
    "    'gamma': [0.0001, 0.001, 0.005, 0.01, 0.05, 0.07, 0.1, 0.5, 1, 5, 10, 50]\n",
    "}\n",
    "\n",
    "pipe = [('pca', PCA()), ('classifier', SVC())]\n",
    "param_grid_pca = {\n",
    "    'pca__n_components': [2],\n",
    "    'classifier__kernel': kernel,\n",
    "    'classifier__C': [0.1, 0.5, 1, 10, 30, 40, 50, 70, 100, 500, 1000],\n",
    "    'classifier__gamma': [0.0001, 0.001, 0.005, 0.01, 0.05, 0.07, 0.1, 0.5, 1, 5, 10, 50]\n",
    "}\n",
    "\n",
    "pipeline = Pipeline(pipe)"
   ]
  },
  {
   "cell_type": "markdown",
   "metadata": {},
   "source": [
    "# Scenario 1: Full Feature"
   ]
  },
  {
   "cell_type": "code",
   "execution_count": 9,
   "metadata": {},
   "outputs": [
    {
     "name": "stdout",
     "output_type": "stream",
     "text": [
      "Best score: 0.9666666666666667\n",
      "Best params: {'C': 0.1, 'gamma': 0.0001, 'kernel': 'poly'}\n"
     ]
    }
   ],
   "source": [
    "grid1 = GridSearchCV(estimator=SVC(), param_grid=param_grid, cv=5, refit=True)\n",
    "grid1.fit(X_train, y_train)\n",
    "\n",
    "print('Best score: {}'.format(grid1.score(X_test, y_test)))\n",
    "print('Best params: {}'.format(grid1.best_params_))"
   ]
  },
  {
   "cell_type": "code",
   "execution_count": 10,
   "metadata": {},
   "outputs": [
    {
     "name": "stdout",
     "output_type": "stream",
     "text": [
      "SVM accuracy with best params: 0.9666666666666667\n",
      "Actual test label:    [0 0 0 0 0 0 1 1 1 1 1 1 0 0 0 0 0 1 1 1 1 1 1 1 0 0 0 0 0 0]\n",
      "Predicted test label: [0 0 0 0 0 0 1 1 1 1 1 1 0 0 0 0 1 1 1 1 1 1 1 1 0 0 0 0 0 0]\n"
     ]
    }
   ],
   "source": [
    "y_pred1 = grid1.predict(X_test)\n",
    "print('SVM accuracy with best params: {}'.format(accuracy_score(y_pred1, y_test)))\n",
    "print('Actual test label:    {}'.format(y_test))\n",
    "print('Predicted test label: {}'.format(y_pred1))"
   ]
  },
  {
   "cell_type": "code",
   "execution_count": 11,
   "metadata": {},
   "outputs": [
    {
     "data": {
      "image/png": "[encoded data removed]",
      "text/plain": [
       "<Figure size 432x288 with 2 Axes>"
      ]
     },
     "metadata": {
      "needs_background": "light"
     },
     "output_type": "display_data"
    }
   ],
   "source": [
    "cm1 = confusion_matrix(y_test, y_pred1)\n",
    "plot_confusion_matrix(cm1, [0, 1])"
   ]
  },
  {
   "cell_type": "code",
   "execution_count": 12,
   "metadata": {
    "scrolled": true
   },
   "outputs": [
    {
     "name": "stdout",
     "output_type": "stream",
     "text": [
      "              precision    recall  f1-score   support\n",
      "\n",
      "           0       1.00      0.94      0.97        17\n",
      "           1       0.93      1.00      0.96        13\n",
      "\n",
      "    accuracy                           0.97        30\n",
      "   macro avg       0.96      0.97      0.97        30\n",
      "weighted avg       0.97      0.97      0.97        30\n",
      "\n"
     ]
    }
   ],
   "source": [
    "print(classification_report(y_test, y_pred1))"
   ]
  },
  {
   "cell_type": "markdown",
   "metadata": {},
   "source": [
    "# Scenario 2: Selected Feature"
   ]
  },
  {
   "cell_type": "code",
   "execution_count": 13,
   "metadata": {},
   "outputs": [],
   "source": [
    "X_train2 = df_train[['m1', 'm2', 'mtot', 'nelectrons', 'fermi']]\n",
    "X_test2 = df_test[['m1', 'm2', 'mtot', 'nelectrons', 'fermi']]"
   ]
  },
  {
   "cell_type": "code",
   "execution_count": 14,
   "metadata": {},
   "outputs": [
    {
     "data": {
      "text/html": [
       "<div>\n",
       "<style scoped>\n",
       "    .dataframe tbody tr th:only-of-type {\n",
       "        vertical-align: middle;\n",
       "    }\n",
       "\n",
       "    .dataframe tbody tr th {\n",
       "        vertical-align: top;\n",
       "    }\n",
       "\n",
       "    .dataframe thead th {\n",
       "        text-align: right;\n",
       "    }\n",
       "</style>\n",
       "<table border=\"1\" class=\"dataframe\">\n",
       "  <thead>\n",
       "    <tr style=\"text-align: right;\">\n",
       "      <th></th>\n",
       "      <th>m1</th>\n",
       "      <th>m2</th>\n",
       "      <th>mtot</th>\n",
       "      <th>nelectrons</th>\n",
       "      <th>fermi</th>\n",
       "    </tr>\n",
       "  </thead>\n",
       "  <tbody>\n",
       "    <tr>\n",
       "      <th>0</th>\n",
       "      <td>0.000</td>\n",
       "      <td>0.000</td>\n",
       "      <td>0.000</td>\n",
       "      <td>62.0</td>\n",
       "      <td>-3.158349</td>\n",
       "    </tr>\n",
       "    <tr>\n",
       "      <th>1</th>\n",
       "      <td>0.000</td>\n",
       "      <td>0.000</td>\n",
       "      <td>0.000</td>\n",
       "      <td>62.0</td>\n",
       "      <td>-1.873443</td>\n",
       "    </tr>\n",
       "    <tr>\n",
       "      <th>2</th>\n",
       "      <td>0.142</td>\n",
       "      <td>0.142</td>\n",
       "      <td>0.547</td>\n",
       "      <td>63.0</td>\n",
       "      <td>-2.335318</td>\n",
       "    </tr>\n",
       "    <tr>\n",
       "      <th>3</th>\n",
       "      <td>0.177</td>\n",
       "      <td>0.177</td>\n",
       "      <td>0.524</td>\n",
       "      <td>63.0</td>\n",
       "      <td>-1.352459</td>\n",
       "    </tr>\n",
       "    <tr>\n",
       "      <th>4</th>\n",
       "      <td>-0.000</td>\n",
       "      <td>-0.000</td>\n",
       "      <td>-0.000</td>\n",
       "      <td>62.0</td>\n",
       "      <td>-3.043384</td>\n",
       "    </tr>\n",
       "  </tbody>\n",
       "</table>\n",
       "</div>"
      ],
      "text/plain": [
       "      m1     m2   mtot  nelectrons     fermi\n",
       "0  0.000  0.000  0.000        62.0 -3.158349\n",
       "1  0.000  0.000  0.000        62.0 -1.873443\n",
       "2  0.142  0.142  0.547        63.0 -2.335318\n",
       "3  0.177  0.177  0.524        63.0 -1.352459\n",
       "4 -0.000 -0.000 -0.000        62.0 -3.043384"
      ]
     },
     "execution_count": 14,
     "metadata": {},
     "output_type": "execute_result"
    }
   ],
   "source": [
    "X_train2.head()"
   ]
  },
  {
   "cell_type": "code",
   "execution_count": 15,
   "metadata": {},
   "outputs": [
    {
     "data": {
      "text/plain": [
       "<matplotlib.axes._subplots.AxesSubplot at 0x12709fc50>"
      ]
     },
     "execution_count": 15,
     "metadata": {},
     "output_type": "execute_result"
    },
    {
     "data": {
      "image/png": "[encoded data removed]",
      "text/plain": [
       "<Figure size 432x288 with 2 Axes>"
      ]
     },
     "metadata": {
      "needs_background": "light"
     },
     "output_type": "display_data"
    }
   ],
   "source": [
    "plt.title('Selected feature correlation')\n",
    "corr_df = pd.concat([X_train2, df_train['class']], axis=1)\n",
    "sns.heatmap(corr_df.corr(), annot=True, vmin=-1, vmax=1, center=0, cmap='coolwarm')"
   ]
  },
  {
   "cell_type": "code",
   "execution_count": 16,
   "metadata": {},
   "outputs": [
    {
     "name": "stdout",
     "output_type": "stream",
     "text": [
      "Best score: 0.9666666666666667\n",
      "Best params: {'C': 0.1, 'gamma': 0.001, 'kernel': 'poly'}\n"
     ]
    }
   ],
   "source": [
    "grid2 = GridSearchCV(estimator=SVC(), param_grid=param_grid, cv=5, refit=True)\n",
    "grid2.fit(X_train2, y_train)\n",
    "\n",
    "print('Best score: {}'.format(grid2.score(X_test2, y_test)))\n",
    "print('Best params: {}'.format(grid2.best_params_))"
   ]
  },
  {
   "cell_type": "code",
   "execution_count": 17,
   "metadata": {},
   "outputs": [
    {
     "name": "stdout",
     "output_type": "stream",
     "text": [
      "SVM Accuracy with best params: 0.9666666666666667\n",
      "Actual test label:    [0 0 0 0 0 0 1 1 1 1 1 1 0 0 0 0 0 1 1 1 1 1 1 1 0 0 0 0 0 0]\n",
      "Predicted test label: [0 0 0 0 0 0 1 1 1 1 1 1 0 0 0 0 0 0 1 1 1 1 1 1 0 0 0 0 0 0]\n"
     ]
    }
   ],
   "source": [
    "y_pred2 = grid2.predict(X_test2)\n",
    "print('SVM Accuracy with best params: {}'.format(accuracy_score(y_pred2, y_test)))\n",
    "print('Actual test label:    {}'.format(y_test))\n",
    "print('Predicted test label: {}'.format(y_pred2))"
   ]
  },
  {
   "cell_type": "code",
   "execution_count": 18,
   "metadata": {},
   "outputs": [
    {
     "data": {
      "image/png": "[encoded data removed]",
      "text/plain": [
       "<Figure size 432x288 with 2 Axes>"
      ]
     },
     "metadata": {
      "needs_background": "light"
     },
     "output_type": "display_data"
    }
   ],
   "source": [
    "cm2 = confusion_matrix(y_test, y_pred2)\n",
    "plot_confusion_matrix(cm2, [0, 1])"
   ]
  },
  {
   "cell_type": "code",
   "execution_count": 19,
   "metadata": {},
   "outputs": [
    {
     "name": "stdout",
     "output_type": "stream",
     "text": [
      "              precision    recall  f1-score   support\n",
      "\n",
      "           0       0.94      1.00      0.97        17\n",
      "           1       1.00      0.92      0.96        13\n",
      "\n",
      "    accuracy                           0.97        30\n",
      "   macro avg       0.97      0.96      0.97        30\n",
      "weighted avg       0.97      0.97      0.97        30\n",
      "\n"
     ]
    }
   ],
   "source": [
    "print(classification_report(y_test, y_pred2))"
   ]
  },
  {
   "cell_type": "markdown",
   "metadata": {},
   "source": [
    "# PCA"
   ]
  },
  {
   "cell_type": "code",
   "execution_count": 20,
   "metadata": {},
   "outputs": [],
   "source": [
    "pca = PCA(n_components=2)\n",
    "pca2 = PCA(n_components=2)\n",
    "\n",
    "# PCA with all features\n",
    "X_transformed = pca.fit_transform(X_train)\n",
    "X_test_transformed = pca.transform(X_test)\n",
    "columns = ['Principal Component 1', 'Principal Component 2']\n",
    "\n",
    "df_pca = pd.DataFrame(data=X_transformed, columns=columns)\n",
    "df_pca = pd.concat([df_pca['Principal Component 1'], df_pca['Principal Component 2'], df_train['class']], axis = 1)\n",
    "\n",
    "# PCA with selected features\n",
    "X_transformed2 = pca2.fit_transform(X_train2)\n",
    "X_test_transformed2 = pca2.transform(X_test2)\n",
    "columns = ['Principal Component 1', 'Principal Component 2']\n",
    "\n",
    "df_pca2 = pd.DataFrame(data=X_transformed2, columns=columns)\n",
    "df_pca2 = pd.concat([df_pca2['Principal Component 1'], df_pca2['Principal Component 2'], df_train['class']], axis=1)"
   ]
  },
  {
   "cell_type": "code",
   "execution_count": 21,
   "metadata": {},
   "outputs": [
    {
     "name": "stdout",
     "output_type": "stream",
     "text": [
      "PCA with all features variance ratio:      [0.98037158 0.0137362 ]\n",
      "PCA with selected features variance ratio: [0.92778479 0.04857948]\n"
     ]
    }
   ],
   "source": [
    "print('PCA with all features variance ratio:      {}'.format(pca.explained_variance_ratio_))\n",
    "print('PCA with selected features variance ratio: {}'.format(pca2.explained_variance_ratio_))"
   ]
  },
  {
   "cell_type": "code",
   "execution_count": 22,
   "metadata": {},
   "outputs": [
    {
     "data": {
      "image/png": "[encoded data removed]",
      "text/plain": [
       "<Figure size 432x288 with 2 Axes>"
      ]
     },
     "metadata": {
      "needs_background": "light"
     },
     "output_type": "display_data"
    }
   ],
   "source": [
    "fig, ax =plt.subplots(1,2)\n",
    "ax[0].set_title('Full features PCA')\n",
    "ax[1].set_title('Selected features PCA')\n",
    "sns.scatterplot(data=df_pca, x='Principal Component 1', y='Principal Component 2', hue='class', ax=ax[0])\n",
    "sns.scatterplot(data=df_pca2, x='Principal Component 1', y='Principal Component 2', hue='class', ax=ax[1])\n",
    "plt.subplots_adjust(left=2, right=4)\n",
    "fig.show()"
   ]
  },
  {
   "cell_type": "markdown",
   "metadata": {},
   "source": [
    "# Scenario 3: Full Feature & PCA"
   ]
  },
  {
   "cell_type": "code",
   "execution_count": 23,
   "metadata": {
    "scrolled": true
   },
   "outputs": [
    {
     "name": "stdout",
     "output_type": "stream",
     "text": [
      "Best score: 0.6333333333333333\n",
      "Best params: {'classifier__C': 0.1, 'classifier__gamma': 0.005, 'classifier__kernel': 'poly', 'pca__n_components': 2}\n"
     ]
    }
   ],
   "source": [
    "grid3 = GridSearchCV(pipeline, param_grid=param_grid_pca, cv=5)\n",
    "grid3.fit(X_transformed, y_train)\n",
    "\n",
    "print('Best score: {}'.format(grid3.score(X_test_transformed, y_test)))\n",
    "print('Best params: {}'.format(grid3.best_params_))"
   ]
  },
  {
   "cell_type": "code",
   "execution_count": 24,
   "metadata": {},
   "outputs": [
    {
     "name": "stdout",
     "output_type": "stream",
     "text": [
      "SVM accuracy with best params: 0.6333333333333333\n",
      "Actual test label:    [0 0 0 0 0 0 1 1 1 1 1 1 0 0 0 0 0 1 1 1 1 1 1 1 0 0 0 0 0 0]\n",
      "Predicted test label: [1 1 1 1 1 1 1 1 1 1 1 1 1 1 1 1 1 1 1 1 1 1 1 1 0 0 0 0 0 0]\n"
     ]
    }
   ],
   "source": [
    "y_pred3 = grid3.predict(X_test_transformed)\n",
    "print('SVM accuracy with best params: {}'.format(accuracy_score(y_pred3, y_test)))\n",
    "print('Actual test label:    {}'.format(y_test))\n",
    "print('Predicted test label: {}'.format(y_pred3))"
   ]
  },
  {
   "cell_type": "code",
   "execution_count": 25,
   "metadata": {},
   "outputs": [
    {
     "data": {
      "image/png": "[encoded data removed]",
      "text/plain": [
       "<Figure size 432x288 with 2 Axes>"
      ]
     },
     "metadata": {
      "needs_background": "light"
     },
     "output_type": "display_data"
    }
   ],
   "source": [
    "cm3 = confusion_matrix(y_test, y_pred3)\n",
    "plot_confusion_matrix(cm3, [0, 1])"
   ]
  },
  {
   "cell_type": "code",
   "execution_count": 26,
   "metadata": {},
   "outputs": [
    {
     "name": "stdout",
     "output_type": "stream",
     "text": [
      "              precision    recall  f1-score   support\n",
      "\n",
      "           0       1.00      0.35      0.52        17\n",
      "           1       0.54      1.00      0.70        13\n",
      "\n",
      "    accuracy                           0.63        30\n",
      "   macro avg       0.77      0.68      0.61        30\n",
      "weighted avg       0.80      0.63      0.60        30\n",
      "\n"
     ]
    }
   ],
   "source": [
    "print(classification_report(y_test, y_pred3))"
   ]
  },
  {
   "cell_type": "code",
   "execution_count": 27,
   "metadata": {},
   "outputs": [
    {
     "data": {
      "text/plain": [
       "<matplotlib.axes._subplots.AxesSubplot at 0x127055b10>"
      ]
     },
     "execution_count": 27,
     "metadata": {},
     "output_type": "execute_result"
    },
    {
     "data": {
      "image/png": "[encoded data removed]",
      "text/plain": [
       "<Figure size 432x288 with 1 Axes>"
      ]
     },
     "metadata": {
      "needs_background": "light"
     },
     "output_type": "display_data"
    }
   ],
   "source": [
    "plot_decision_regions(X_transformed, y_train, clf=grid3, legend=2)"
   ]
  },
  {
   "cell_type": "markdown",
   "metadata": {},
   "source": [
    "# Scenario 4: Selected Feature & PCA"
   ]
  },
  {
   "cell_type": "code",
   "execution_count": 28,
   "metadata": {},
   "outputs": [
    {
     "name": "stdout",
     "output_type": "stream",
     "text": [
      "Best score: 0.9333333333333333\n",
      "Best params: {'classifier__C': 0.1, 'classifier__gamma': 0.05, 'classifier__kernel': 'poly', 'pca__n_components': 2}\n"
     ]
    }
   ],
   "source": [
    "grid4 = GridSearchCV(pipeline, param_grid=param_grid_pca, cv=5)\n",
    "grid4.fit(X_transformed2, y_train)\n",
    "\n",
    "print('Best score: {}'.format(grid4.score(X_test_transformed2, y_test)))\n",
    "print('Best params: {}'.format(grid4.best_params_))"
   ]
  },
  {
   "cell_type": "code",
   "execution_count": 29,
   "metadata": {
    "scrolled": false
   },
   "outputs": [
    {
     "name": "stdout",
     "output_type": "stream",
     "text": [
      "SVM Accuracy with best params: 0.9333333333333333\n",
      "Actual test label:    [0 0 0 0 0 0 1 1 1 1 1 1 0 0 0 0 0 1 1 1 1 1 1 1 0 0 0 0 0 0]\n",
      "Predicted test label: [0 0 0 0 0 0 1 1 1 1 1 1 0 0 0 0 0 0 1 1 1 1 0 1 0 0 0 0 0 0]\n"
     ]
    }
   ],
   "source": [
    "y_pred4 = grid4.predict(X_test_transformed2)\n",
    "print('SVM Accuracy with best params: {}'.format(accuracy_score(y_pred4, y_test)))\n",
    "print('Actual test label:    {}'.format(y_test))\n",
    "print('Predicted test label: {}'.format(y_pred4))"
   ]
  },
  {
   "cell_type": "code",
   "execution_count": 30,
   "metadata": {},
   "outputs": [
    {
     "data": {
      "image/png": "[encoded data removed]",
      "text/plain": [
       "<Figure size 432x288 with 2 Axes>"
      ]
     },
     "metadata": {
      "needs_background": "light"
     },
     "output_type": "display_data"
    }
   ],
   "source": [
    "cm4 = confusion_matrix(y_test, y_pred4)\n",
    "plot_confusion_matrix(cm4, [0, 1])"
   ]
  },
  {
   "cell_type": "code",
   "execution_count": 31,
   "metadata": {},
   "outputs": [
    {
     "name": "stdout",
     "output_type": "stream",
     "text": [
      "              precision    recall  f1-score   support\n",
      "\n",
      "           0       0.89      1.00      0.94        17\n",
      "           1       1.00      0.85      0.92        13\n",
      "\n",
      "    accuracy                           0.93        30\n",
      "   macro avg       0.95      0.92      0.93        30\n",
      "weighted avg       0.94      0.93      0.93        30\n",
      "\n"
     ]
    }
   ],
   "source": [
    "print(classification_report(y_test, y_pred4))"
   ]
  },
  {
   "cell_type": "code",
   "execution_count": 32,
   "metadata": {
    "scrolled": false
   },
   "outputs": [
    {
     "data": {
      "text/plain": [
       "<matplotlib.axes._subplots.AxesSubplot at 0x127263f90>"
      ]
     },
     "execution_count": 32,
     "metadata": {},
     "output_type": "execute_result"
    },
    {
     "data": {
      "image/png": "[encoded data removed]",
      "text/plain": [
       "<Figure size 432x288 with 1 Axes>"
      ]
     },
     "metadata": {
      "needs_background": "light"
     },
     "output_type": "display_data"
    }
   ],
   "source": [
    "plot_decision_regions(X_transformed2, y_train, clf=grid4, legend=2)"
   ]
  }
 ],
 "metadata": {
  "kernelspec": {
   "display_name": "Python 3",
   "language": "python",
   "name": "python3"
  },
  "language_info": {
   "codemirror_mode": {
    "name": "ipython",
    "version": 3
   },
   "file_extension": ".py",
   "mimetype": "text/x-python",
   "name": "python",
   "nbconvert_exporter": "python",
   "pygments_lexer": "ipython3",
   "version": "3.7.5"
  }
 },
 "nbformat": 4,
 "nbformat_minor": 2
}
